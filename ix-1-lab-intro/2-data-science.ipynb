{
 "cells": [
  {
   "cell_type": "markdown",
   "metadata": {},
   "source": [
    "# Data Science\n",
    "\n",
    "Python is the [language of choice](https://www.quora.com/Why-is-Python-a-language-of-choice-for-data-scientists) for [Data Science](https://en.wikipedia.org/wiki/Data_science). In fact, there exists tons of powerful and well-maintained libraries to support you. We will introduce the most useful ones in this notebook."
   ]
  },
  {
   "cell_type": "markdown",
   "metadata": {},
   "source": [
    "## Numpy\n",
    "\n",
    "If you know Matlab, [Numpy](http://www.numpy.org) provides similar ease of use for $N$-dimensional array operations (slicing, dicing, mapping, ...). Moreover, it provides tons of tools for linear algebra, probability and statistics. You really cannot do scientific computing without `numpy`!"
   ]
  },
  {
   "cell_type": "code",
   "execution_count": 1,
   "metadata": {
    "collapsed": true
   },
   "outputs": [],
   "source": [
    "import numpy as np"
   ]
  },
  {
   "cell_type": "markdown",
   "metadata": {},
   "source": [
    "### Arrays\n",
    "\n",
    "Numpy `array`s are upgraded versions of Python `list`s. They are the foundations of the library and come with a bunch of methods that allow various operations."
   ]
  },
  {
   "cell_type": "code",
   "execution_count": 2,
   "metadata": {},
   "outputs": [
    {
     "name": "stdout",
     "output_type": "stream",
     "text": [
      "[[1 3 5]\n",
      " [2 4 6]]\n",
      "The shape of this array is: (2, 3)\n",
      "The first element is 1\n",
      "The first column is [1 2]\n",
      "The third row is [2 4 6]\n"
     ]
    }
   ],
   "source": [
    "numpy_array = np.array([[1, 3, 5], [2, 4, 6]])\n",
    "print(numpy_array)\n",
    "print(\"The shape of this array is:\", numpy_array.shape)\n",
    "first_element = numpy_array[0, 0]\n",
    "first_column = numpy_array[:, 0]\n",
    "second_row = numpy_array[1, :]\n",
    "print(\"The first element is\", first_element)\n",
    "print(\"The first column is\", first_column)\n",
    "print(\"The third row is\", second_row)"
   ]
  },
  {
   "cell_type": "markdown",
   "metadata": {},
   "source": [
    "Numpy arrays behave like \"normal\" numbers, meaning that operations are performed **element-wise**."
   ]
  },
  {
   "cell_type": "code",
   "execution_count": 3,
   "metadata": {},
   "outputs": [
    {
     "name": "stdout",
     "output_type": "stream",
     "text": [
      "[ 1.  1.  1.  1.  1.  1.  1.  1.  1.  1.]\n",
      "[ 2.  2.  2.  2.  2.  2.  2.  2.  2.  2.]\n"
     ]
    }
   ],
   "source": [
    "zeros = np.zeros(10)\n",
    "ones = np.ones(10)\n",
    "print(zeros + ones)\n",
    "print(np.exp(zeros) + ones)"
   ]
  },
  {
   "cell_type": "markdown",
   "metadata": {},
   "source": [
    "It is then easy to create random vectors and perform linear algebra operations, such as $A\\mathbf{b}$ or $\\mathbf{x} = A^{-1}\\mathbf{b}$. "
   ]
  },
  {
   "cell_type": "code",
   "execution_count": 4,
   "metadata": {},
   "outputs": [
    {
     "name": "stdout",
     "output_type": "stream",
     "text": [
      "A =\n",
      " [[5 7 1 3 8]\n",
      " [3 4 1 9 9]\n",
      " [3 7 9 7 1]\n",
      " [0 4 3 6 8]\n",
      " [7 7 8 1 7]]\n",
      "b =\n",
      " [[3]\n",
      " [3]\n",
      " [9]\n",
      " [8]\n",
      " [5]]\n",
      "The vectorial product Ab is\n",
      " [[109]\n",
      " [147]\n",
      " [172]\n",
      " [127]\n",
      " [157]]\n",
      "The solution to Ax = b is x =\n",
      " [[-1.28746713]\n",
      " [ 0.9237511 ]\n",
      " [ 0.69062226]\n",
      " [-0.01577564]\n",
      " [ 0.29097283]]\n"
     ]
    }
   ],
   "source": [
    "A = np.random.randint(low=0, high=10, size=(5, 5))\n",
    "b = np.random.randint(low=0, high=10, size=(5, 1))\n",
    "print(\"A =\\n\", A)\n",
    "print(\"b =\\n\", b)\n",
    "print(\"The vectorial product Ab is\\n\", A.dot(b))\n",
    "print(\"The solution to Ax = b is x =\\n\", np.linalg.solve(A, b))"
   ]
  },
  {
   "cell_type": "markdown",
   "metadata": {},
   "source": [
    "Try to compute the mean and the variance of the vector $\\mathbf{b}$.\n",
    "\n",
    "*Hint:* have a look at the [documentation](https://docs.scipy.org/doc/numpy/reference/generated/numpy.mean.html)."
   ]
  },
  {
   "cell_type": "code",
   "execution_count": 6,
   "metadata": {},
   "outputs": [
    {
     "name": "stdout",
     "output_type": "stream",
     "text": [
      "Mean: 5.6\n",
      "Variance: 6.24\n"
     ]
    }
   ],
   "source": [
    "print(\"Mean:\", np.mean(b))\n",
    "print(\"Variance:\", np.var(b))"
   ]
  },
  {
   "cell_type": "markdown",
   "metadata": {},
   "source": [
    "Something that you will probably need at some point is to control the [random state](https://docs.scipy.org/doc/numpy/reference/generated/numpy.random.RandomState.html#numpy.random.RandomState) of numpy. For instance if you are randomly initializing some parameters, but you would like to compare different runs of the same piece of code, you can fix the *seed* for the random generator. This will still produce random numbers, but each time the same! We say it is some *predictable randomness*."
   ]
  },
  {
   "cell_type": "code",
   "execution_count": 7,
   "metadata": {},
   "outputs": [
    {
     "name": "stdout",
     "output_type": "stream",
     "text": [
      "[2 8 4 9 1 6 7 3 0 5]\n",
      "[2 8 4 9 1 6 7 3 0 5]\n",
      "[3 5 1 2 9 8 0 6 7 4]\n"
     ]
    }
   ],
   "source": [
    "# Fix the seed\n",
    "np.random.seed(0)\n",
    "print(np.random.permutation(10))\n",
    "# Reset the seed\n",
    "np.random.seed(0)\n",
    "print(np.random.permutation(10))\n",
    "# The two above permutations are the same\n",
    "# The sequence of the random generator is now initialized\n",
    "print(np.random.permutation(10))"
   ]
  },
  {
   "cell_type": "markdown",
   "metadata": {},
   "source": [
    "## Matplotlib\n",
    "\n",
    "[Matpotlib](http://matplotlib.org/) is the most famous library to plot data. It is sometimes tedious to use, yet very powerful. It becomes however very interesting when combined with notebooks like this as you have the possibility to display your plot *inline*. "
   ]
  },
  {
   "cell_type": "code",
   "execution_count": 8,
   "metadata": {},
   "outputs": [],
   "source": [
    "%matplotlib inline\n",
    "import matplotlib.pyplot as plt"
   ]
  },
  {
   "cell_type": "markdown",
   "metadata": {},
   "source": [
    "We show here an example of three basic functions plotted on the same graph. As you see, it is quite verbose to obtain a simple plot like this. Try to play with the different options of the `plot` function: change the color of the lines, their width, the markers, ...\n",
    "\n",
    "*Hint:* http://matplotlib.org/api/pyplot_api.html?highlight=plot#matplotlib.pyplot.plot"
   ]
  },
  {
   "cell_type": "code",
   "execution_count": 9,
   "metadata": {},
   "outputs": [
    {
     "data": {
      "image/png": "[encoded data removed]",
      "text/plain": [
       "<matplotlib.figure.Figure at 0x7f886ab3cb00>"
      ]
     },
     "metadata": {},
     "output_type": "display_data"
    }
   ],
   "source": [
    "x = np.linspace(start=0.01, stop=10, num=1000)\n",
    "# Generate some data\n",
    "sin = np.sin(x)\n",
    "lin = -4 + x\n",
    "log = np.log(x)\n",
    "# Create a new figure\n",
    "plt.figure(figsize=(8, 6))\n",
    "# Plot the data\n",
    "plt.plot(x, sin)\n",
    "plt.plot(x, lin)\n",
    "plt.plot(x, log)\n",
    "# Customize the plot\n",
    "plt.title(\"Some functions across time\", fontsize=16)\n",
    "plt.xlabel(\"x\", fontsize=20)\n",
    "plt.ylabel(\"f(x)\", fontsize=20)\n",
    "plt.legend([\"sinusoid\", \"linear\", \"logarithm\"], loc='lower right', fontsize=14)\n",
    "plt.grid()\n",
    "# Display the result\n",
    "plt.show()"
   ]
  },
  {
   "cell_type": "markdown",
   "metadata": {},
   "source": [
    "*Note*: in your reports and papers (at university and later during your engineering carreer), whenever displaying a plot, **always** set the\n",
    "\n",
    "* title\n",
    "* x and y labels\n",
    "* legend\n",
    "* caption\n",
    "\n",
    "Be also sure that the font is big enough to be easily read by anyone with normal vision, and that each line has a different color (and ideally, markers). This a some very good habit to aquire, and one that will put you ahead of most of your fellow students, colleagues and competitors."
   ]
  },
  {
   "cell_type": "markdown",
   "metadata": {},
   "source": [
    "## NetworkX\n",
    "\n",
    "[NetworkX](https://networkx.github.io) is a Python library for the creation, manipulation, and study of the structure, dynamics, and functions of networks. It provides a lot of functions to compute metrics from networks and to visualze them."
   ]
  },
  {
   "cell_type": "code",
   "execution_count": 10,
   "metadata": {},
   "outputs": [],
   "source": [
    "import networkx as nx"
   ]
  },
  {
   "cell_type": "markdown",
   "metadata": {},
   "source": [
    "You can easily load networks from different sources, for instance using an [adjacency list](https://en.wikipedia.org/wiki/Adjacency_list)."
   ]
  },
  {
   "cell_type": "code",
   "execution_count": 11,
   "metadata": {},
   "outputs": [],
   "source": [
    "G = nx.read_adjlist('data/adjacency_list.nx')"
   ]
  },
  {
   "cell_type": "markdown",
   "metadata": {},
   "source": [
    "Visualize it by `draw`ing it."
   ]
  },
  {
   "cell_type": "code",
   "execution_count": 12,
   "metadata": {},
   "outputs": [
    {
     "data": {
      "image/png": "[encoded data removed]",
      "text/plain": [
       "<matplotlib.figure.Figure at 0x7f8849035048>"
      ]
     },
     "metadata": {},
     "output_type": "display_data"
    }
   ],
   "source": [
    "nx.draw_networkx(G)\n",
    "plt.axis('off'); # Makes the plot slightly nicer"
   ]
  },
  {
   "cell_type": "markdown",
   "metadata": {},
   "source": [
    "You can add nodes."
   ]
  },
  {
   "cell_type": "code",
   "execution_count": 13,
   "metadata": {},
   "outputs": [
    {
     "data": {
      "image/png": "[encoded data removed]",
      "text/plain": [
       "<matplotlib.figure.Figure at 0x7f8849025278>"
      ]
     },
     "metadata": {},
     "output_type": "display_data"
    }
   ],
   "source": [
    "G.add_node('g')\n",
    "\n",
    "nx.draw_networkx(G)\n",
    "plt.axis('off');"
   ]
  },
  {
   "cell_type": "markdown",
   "metadata": {},
   "source": [
    "And edges."
   ]
  },
  {
   "cell_type": "code",
   "execution_count": 14,
   "metadata": {},
   "outputs": [
    {
     "data": {
      "image/png": "[encoded data removed]",
      "text/plain": [
       "<matplotlib.figure.Figure at 0x7f8849013898>"
      ]
     },
     "metadata": {},
     "output_type": "display_data"
    }
   ],
   "source": [
    "G.add_edge('g', 'a')\n",
    "G.add_edge('g', 'f')\n",
    "\n",
    "nx.draw_networkx(G)\n",
    "plt.axis('off');"
   ]
  },
  {
   "cell_type": "markdown",
   "metadata": {},
   "source": [
    "A lot of different [algorithms](https://networkx.github.io/documentation/networkx-1.10/reference/algorithms.html) on graphs are already implemented and ready to use."
   ]
  },
  {
   "cell_type": "code",
   "execution_count": 15,
   "metadata": {},
   "outputs": [
    {
     "name": "stdout",
     "output_type": "stream",
     "text": [
      "Diameter = 3\n",
      "Shortest path between node g and node d: ['g', 'a', 'b', 'd']\n",
      "Cliques of three nodes and more:\n",
      "['a', 'f', 'g']\n",
      "['f', 'c', 'e']\n"
     ]
    }
   ],
   "source": [
    "print(\"Diameter =\", nx.diameter(G))\n",
    "print(\"Shortest path between node g and node d:\", nx.shortest_path(G, 'g', 'd'))\n",
    "print(\"Cliques of three nodes and more:\")\n",
    "for clique in nx.enumerate_all_cliques(G):\n",
    "    if len(clique) > 2:  # Only clique of at least 3 nodes\n",
    "        print(clique)"
   ]
  },
  {
   "cell_type": "markdown",
   "metadata": {},
   "source": [
    "You can find more examples of NetworkX here: https://networkx.readthedocs.io/en/stable/examples/index.html."
   ]
  },
  {
   "cell_type": "markdown",
   "metadata": {},
   "source": [
    "## More Libraries\n",
    "\n",
    "You have seen now the required libraries to follow this class. We present here some optional ones, but ones that you will most likely make use of if you follow the path of data science, machine learning, statistics and/or data mining.\n",
    "\n",
    "* [Pandas](http://pandas.pydata.org): consolidate data from various sources, move them around and analyze them easily\n",
    "* [SciPy](http://www.scipy.org): extends numpy with more scientific computing tools (such as probability distributions, sparse matrices, optimization routines, ...)\n",
    "* [scikit-learn](http://scikit-learn.org/stable/): state-of-the-art machine learning algorithms\n",
    "* [TensorFlow](https://www.tensorflow.org): Google's machine learning library, focusing of deep learning, and based on computational graphs \n",
    "* [Bokeh](http://bokeh.pydata.org/en/latest/): more advanced, interactive visualization"
   ]
  },
  {
   "cell_type": "markdown",
   "metadata": {},
   "source": [
    "## Exercises\n",
    "\n",
    "Now, your turn to put your hands in the code!"
   ]
  },
  {
   "cell_type": "markdown",
   "metadata": {},
   "source": [
    "### Linear Algebra: Matrix Standardization\n",
    "\n",
    "The process of *standardization* is a very useful preprocessing operation that is even mandatory for some techniques (you will see that later). Formally, a matrix $X$ of size $N \\times M$ is said to be *standardized* if its columns have $0$ mean and unitary standard deviation. Note that, when dealing with data, the number of data samples is commonly denoted by $N$ and the number of features of each sample is denoted by $M$. \n",
    "\n",
    "In this exercise, you have scraped data from the Swiss Confederation website and created a matrix of vote results. More precisely, every row in the matrix corresponds to a federal vote (popular initiative or referendum) and the columns are some features related to the municipalities. There are $N=307$ votes and $M=2289$ features. You heard that Switzerland has distinct voting patterns according to the different languages and would like to verify this hypothesis with a data-driven approach. A common procedure is to perform [principal component analysis](https://en.wikipedia.org/wiki/Principal_component_analysis) (more on that in a few weeks) for which the data must be standardized. \n",
    "\n",
    "1. Try to understand why we standardize **column-wise** and what it would mean to standardize row-wise. \n",
    "2. Standardize the matrix X.\n",
    "3. Verify your code by interpreting the result.\n",
    "\n"
   ]
  },
  {
   "cell_type": "code",
   "execution_count": 16,
   "metadata": {},
   "outputs": [],
   "source": [
    "X = np.load('data/votes-data.npy')"
   ]
  },
  {
   "cell_type": "code",
   "execution_count": 21,
   "metadata": {},
   "outputs": [],
   "source": [
    "df=pandas.DataFrame(X)\n"
   ]
  },
  {
   "cell_type": "code",
   "execution_count": 31,
   "metadata": {},
   "outputs": [
    {
     "data": {
      "text/plain": [
       "0       103.855900\n",
       "1       138.439246\n",
       "2       132.146720\n",
       "3       133.460453\n",
       "4       130.697410\n",
       "5       119.596312\n",
       "6       111.008812\n",
       "7       107.775893\n",
       "8       137.347206\n",
       "9       110.771284\n",
       "10      119.822545\n",
       "11      100.139057\n",
       "12      127.348704\n",
       "13      141.087311\n",
       "14      129.114701\n",
       "15      104.045381\n",
       "16      117.074853\n",
       "17      100.279310\n",
       "18      110.539987\n",
       "19      128.379761\n",
       "20      131.761100\n",
       "21      127.495628\n",
       "22      100.871819\n",
       "23      101.264473\n",
       "24      136.921735\n",
       "25      106.627127\n",
       "26      143.394198\n",
       "27      133.500447\n",
       "28      114.655451\n",
       "29      118.849882\n",
       "           ...    \n",
       "2259    131.665409\n",
       "2260    108.668893\n",
       "2261    107.613764\n",
       "2262    103.720494\n",
       "2263    126.692610\n",
       "2264    111.507186\n",
       "2265    144.080094\n",
       "2266    139.248276\n",
       "2267    125.313912\n",
       "2268    141.725946\n",
       "2269    131.395245\n",
       "2270    131.948383\n",
       "2271    136.841770\n",
       "2272    140.015665\n",
       "2273    113.437981\n",
       "2274    121.216889\n",
       "2275    103.239096\n",
       "2276    114.474524\n",
       "2277    101.491933\n",
       "2278    124.750084\n",
       "2279    100.643761\n",
       "2280    122.406590\n",
       "2281    139.031897\n",
       "2282    109.436055\n",
       "2283    104.205646\n",
       "2284    107.372561\n",
       "2285    141.252492\n",
       "2286    107.681003\n",
       "2287    121.259724\n",
       "2288    100.750723\n",
       "Length: 2289, dtype: float64"
      ]
     },
     "execution_count": 31,
     "metadata": {},
     "output_type": "execute_result"
    }
   ],
   "source": [
    "df.mean()"
   ]
  },
  {
   "cell_type": "code",
   "execution_count": 32,
   "metadata": {},
   "outputs": [
    {
     "data": {
      "text/html": [
       "<div>\n",
       "<style>\n",
       "    .dataframe thead tr:only-child th {\n",
       "        text-align: right;\n",
       "    }\n",
       "\n",
       "    .dataframe thead th {\n",
       "        text-align: left;\n",
       "    }\n",
       "\n",
       "    .dataframe tbody tr th {\n",
       "        vertical-align: top;\n",
       "    }\n",
       "</style>\n",
       "<table border=\"1\" class=\"dataframe\">\n",
       "  <thead>\n",
       "    <tr style=\"text-align: right;\">\n",
       "      <th></th>\n",
       "      <th>0</th>\n",
       "      <th>1</th>\n",
       "      <th>2</th>\n",
       "      <th>3</th>\n",
       "      <th>4</th>\n",
       "      <th>5</th>\n",
       "      <th>6</th>\n",
       "      <th>7</th>\n",
       "      <th>8</th>\n",
       "      <th>9</th>\n",
       "      <th>...</th>\n",
       "      <th>2279</th>\n",
       "      <th>2280</th>\n",
       "      <th>2281</th>\n",
       "      <th>2282</th>\n",
       "      <th>2283</th>\n",
       "      <th>2284</th>\n",
       "      <th>2285</th>\n",
       "      <th>2286</th>\n",
       "      <th>2287</th>\n",
       "      <th>2288</th>\n",
       "    </tr>\n",
       "  </thead>\n",
       "  <tbody>\n",
       "    <tr>\n",
       "      <th>0</th>\n",
       "      <td>59.803713</td>\n",
       "      <td>35.612897</td>\n",
       "      <td>83.370118</td>\n",
       "      <td>32.715159</td>\n",
       "      <td>62.102917</td>\n",
       "      <td>9.970945</td>\n",
       "      <td>46.561458</td>\n",
       "      <td>26.187131</td>\n",
       "      <td>26.161637</td>\n",
       "      <td>77.252592</td>\n",
       "      <td>...</td>\n",
       "      <td>15.660415</td>\n",
       "      <td>58.981491</td>\n",
       "      <td>97.317801</td>\n",
       "      <td>106.538786</td>\n",
       "      <td>129.732720</td>\n",
       "      <td>30.209797</td>\n",
       "      <td>85.243568</td>\n",
       "      <td>90.733961</td>\n",
       "      <td>7.697798</td>\n",
       "      <td>90.090874</td>\n",
       "    </tr>\n",
       "    <tr>\n",
       "      <th>1</th>\n",
       "      <td>21.117831</td>\n",
       "      <td>51.196111</td>\n",
       "      <td>61.179587</td>\n",
       "      <td>18.375660</td>\n",
       "      <td>39.014218</td>\n",
       "      <td>-18.395082</td>\n",
       "      <td>7.282269</td>\n",
       "      <td>-20.036302</td>\n",
       "      <td>18.243354</td>\n",
       "      <td>62.419728</td>\n",
       "      <td>...</td>\n",
       "      <td>14.484939</td>\n",
       "      <td>16.592558</td>\n",
       "      <td>72.044549</td>\n",
       "      <td>122.192492</td>\n",
       "      <td>129.732720</td>\n",
       "      <td>28.681841</td>\n",
       "      <td>90.988865</td>\n",
       "      <td>109.552165</td>\n",
       "      <td>8.512239</td>\n",
       "      <td>89.529512</td>\n",
       "    </tr>\n",
       "    <tr>\n",
       "      <th>2</th>\n",
       "      <td>108.988831</td>\n",
       "      <td>65.390627</td>\n",
       "      <td>93.085688</td>\n",
       "      <td>38.942131</td>\n",
       "      <td>84.212848</td>\n",
       "      <td>155.112494</td>\n",
       "      <td>124.972740</td>\n",
       "      <td>73.856946</td>\n",
       "      <td>57.003101</td>\n",
       "      <td>113.353763</td>\n",
       "      <td>...</td>\n",
       "      <td>2.718990</td>\n",
       "      <td>-45.686567</td>\n",
       "      <td>-31.964602</td>\n",
       "      <td>50.270244</td>\n",
       "      <td>87.127373</td>\n",
       "      <td>12.496917</td>\n",
       "      <td>18.768258</td>\n",
       "      <td>97.307636</td>\n",
       "      <td>6.344874</td>\n",
       "      <td>19.187179</td>\n",
       "    </tr>\n",
       "    <tr>\n",
       "      <th>3</th>\n",
       "      <td>97.557945</td>\n",
       "      <td>47.174530</td>\n",
       "      <td>63.988057</td>\n",
       "      <td>23.227606</td>\n",
       "      <td>47.490578</td>\n",
       "      <td>94.393322</td>\n",
       "      <td>52.917581</td>\n",
       "      <td>72.276478</td>\n",
       "      <td>41.193099</td>\n",
       "      <td>71.470556</td>\n",
       "      <td>...</td>\n",
       "      <td>-7.220480</td>\n",
       "      <td>-14.710039</td>\n",
       "      <td>52.603586</td>\n",
       "      <td>-21.726799</td>\n",
       "      <td>-71.301403</td>\n",
       "      <td>49.747412</td>\n",
       "      <td>16.079712</td>\n",
       "      <td>-8.383830</td>\n",
       "      <td>-1.040832</td>\n",
       "      <td>34.359655</td>\n",
       "    </tr>\n",
       "    <tr>\n",
       "      <th>4</th>\n",
       "      <td>73.367345</td>\n",
       "      <td>8.767033</td>\n",
       "      <td>35.880630</td>\n",
       "      <td>22.640167</td>\n",
       "      <td>21.461429</td>\n",
       "      <td>52.993888</td>\n",
       "      <td>16.724484</td>\n",
       "      <td>-33.521971</td>\n",
       "      <td>-6.915196</td>\n",
       "      <td>20.656307</td>\n",
       "      <td>...</td>\n",
       "      <td>5.805474</td>\n",
       "      <td>-47.376196</td>\n",
       "      <td>-64.042191</td>\n",
       "      <td>35.078019</td>\n",
       "      <td>-43.074571</td>\n",
       "      <td>33.621354</td>\n",
       "      <td>59.450138</td>\n",
       "      <td>49.043488</td>\n",
       "      <td>3.253802</td>\n",
       "      <td>15.912672</td>\n",
       "    </tr>\n",
       "  </tbody>\n",
       "</table>\n",
       "<p>5 rows × 2289 columns</p>\n",
       "</div>"
      ],
      "text/plain": [
       "         0          1          2          3          4           5     \\\n",
       "0   59.803713  35.612897  83.370118  32.715159  62.102917    9.970945   \n",
       "1   21.117831  51.196111  61.179587  18.375660  39.014218  -18.395082   \n",
       "2  108.988831  65.390627  93.085688  38.942131  84.212848  155.112494   \n",
       "3   97.557945  47.174530  63.988057  23.227606  47.490578   94.393322   \n",
       "4   73.367345   8.767033  35.880630  22.640167  21.461429   52.993888   \n",
       "\n",
       "         6          7          8           9       ...           2279  \\\n",
       "0   46.561458  26.187131  26.161637   77.252592    ...      15.660415   \n",
       "1    7.282269 -20.036302  18.243354   62.419728    ...      14.484939   \n",
       "2  124.972740  73.856946  57.003101  113.353763    ...       2.718990   \n",
       "3   52.917581  72.276478  41.193099   71.470556    ...      -7.220480   \n",
       "4   16.724484 -33.521971  -6.915196   20.656307    ...       5.805474   \n",
       "\n",
       "        2280       2281        2282        2283       2284       2285  \\\n",
       "0  58.981491  97.317801  106.538786  129.732720  30.209797  85.243568   \n",
       "1  16.592558  72.044549  122.192492  129.732720  28.681841  90.988865   \n",
       "2 -45.686567 -31.964602   50.270244   87.127373  12.496917  18.768258   \n",
       "3 -14.710039  52.603586  -21.726799  -71.301403  49.747412  16.079712   \n",
       "4 -47.376196 -64.042191   35.078019  -43.074571  33.621354  59.450138   \n",
       "\n",
       "         2286      2287       2288  \n",
       "0   90.733961  7.697798  90.090874  \n",
       "1  109.552165  8.512239  89.529512  \n",
       "2   97.307636  6.344874  19.187179  \n",
       "3   -8.383830 -1.040832  34.359655  \n",
       "4   49.043488  3.253802  15.912672  \n",
       "\n",
       "[5 rows x 2289 columns]"
      ]
     },
     "execution_count": 32,
     "metadata": {},
     "output_type": "execute_result"
    }
   ],
   "source": [
    "dif=df - df.mean()\n",
    "dif.head()"
   ]
  },
  {
   "cell_type": "code",
   "execution_count": 28,
   "metadata": {},
   "outputs": [
    {
     "data": {
      "text/html": [
       "<div>\n",
       "<style>\n",
       "    .dataframe thead tr:only-child th {\n",
       "        text-align: right;\n",
       "    }\n",
       "\n",
       "    .dataframe thead th {\n",
       "        text-align: left;\n",
       "    }\n",
       "\n",
       "    .dataframe tbody tr th {\n",
       "        vertical-align: top;\n",
       "    }\n",
       "</style>\n",
       "<table border=\"1\" class=\"dataframe\">\n",
       "  <thead>\n",
       "    <tr style=\"text-align: right;\">\n",
       "      <th></th>\n",
       "      <th>0</th>\n",
       "      <th>1</th>\n",
       "      <th>2</th>\n",
       "      <th>3</th>\n",
       "      <th>4</th>\n",
       "      <th>5</th>\n",
       "      <th>6</th>\n",
       "      <th>7</th>\n",
       "      <th>8</th>\n",
       "      <th>9</th>\n",
       "      <th>...</th>\n",
       "      <th>2279</th>\n",
       "      <th>2280</th>\n",
       "      <th>2281</th>\n",
       "      <th>2282</th>\n",
       "      <th>2283</th>\n",
       "      <th>2284</th>\n",
       "      <th>2285</th>\n",
       "      <th>2286</th>\n",
       "      <th>2287</th>\n",
       "      <th>2288</th>\n",
       "    </tr>\n",
       "  </thead>\n",
       "  <tbody>\n",
       "    <tr>\n",
       "      <th>0</th>\n",
       "      <td>163.659613</td>\n",
       "      <td>174.052143</td>\n",
       "      <td>215.516839</td>\n",
       "      <td>166.175612</td>\n",
       "      <td>192.800327</td>\n",
       "      <td>129.567258</td>\n",
       "      <td>157.570269</td>\n",
       "      <td>133.963024</td>\n",
       "      <td>163.508843</td>\n",
       "      <td>188.023876</td>\n",
       "      <td>...</td>\n",
       "      <td>116.304176</td>\n",
       "      <td>181.388082</td>\n",
       "      <td>236.349698</td>\n",
       "      <td>215.974841</td>\n",
       "      <td>233.938367</td>\n",
       "      <td>137.582359</td>\n",
       "      <td>226.496060</td>\n",
       "      <td>198.414964</td>\n",
       "      <td>128.957522</td>\n",
       "      <td>190.841596</td>\n",
       "    </tr>\n",
       "    <tr>\n",
       "      <th>1</th>\n",
       "      <td>124.973731</td>\n",
       "      <td>189.635357</td>\n",
       "      <td>193.326307</td>\n",
       "      <td>151.836113</td>\n",
       "      <td>169.711629</td>\n",
       "      <td>101.201230</td>\n",
       "      <td>118.291080</td>\n",
       "      <td>87.739591</td>\n",
       "      <td>155.590560</td>\n",
       "      <td>173.191012</td>\n",
       "      <td>...</td>\n",
       "      <td>115.128700</td>\n",
       "      <td>138.999148</td>\n",
       "      <td>211.076446</td>\n",
       "      <td>231.628547</td>\n",
       "      <td>233.938367</td>\n",
       "      <td>136.054402</td>\n",
       "      <td>232.241357</td>\n",
       "      <td>217.233168</td>\n",
       "      <td>129.771963</td>\n",
       "      <td>190.280234</td>\n",
       "    </tr>\n",
       "    <tr>\n",
       "      <th>2</th>\n",
       "      <td>212.844731</td>\n",
       "      <td>203.829873</td>\n",
       "      <td>225.232409</td>\n",
       "      <td>172.402584</td>\n",
       "      <td>214.910258</td>\n",
       "      <td>274.708806</td>\n",
       "      <td>235.981551</td>\n",
       "      <td>181.632839</td>\n",
       "      <td>194.350307</td>\n",
       "      <td>224.125047</td>\n",
       "      <td>...</td>\n",
       "      <td>103.362751</td>\n",
       "      <td>76.720023</td>\n",
       "      <td>107.067295</td>\n",
       "      <td>159.706299</td>\n",
       "      <td>191.333019</td>\n",
       "      <td>119.869478</td>\n",
       "      <td>160.020750</td>\n",
       "      <td>204.988639</td>\n",
       "      <td>127.604598</td>\n",
       "      <td>119.937902</td>\n",
       "    </tr>\n",
       "    <tr>\n",
       "      <th>3</th>\n",
       "      <td>201.413845</td>\n",
       "      <td>185.613776</td>\n",
       "      <td>196.134777</td>\n",
       "      <td>156.688058</td>\n",
       "      <td>178.187988</td>\n",
       "      <td>213.989635</td>\n",
       "      <td>163.926392</td>\n",
       "      <td>180.052371</td>\n",
       "      <td>178.540305</td>\n",
       "      <td>182.241840</td>\n",
       "      <td>...</td>\n",
       "      <td>93.423281</td>\n",
       "      <td>107.696551</td>\n",
       "      <td>191.635483</td>\n",
       "      <td>87.709256</td>\n",
       "      <td>32.904244</td>\n",
       "      <td>157.119973</td>\n",
       "      <td>157.332204</td>\n",
       "      <td>99.297173</td>\n",
       "      <td>120.218892</td>\n",
       "      <td>135.110378</td>\n",
       "    </tr>\n",
       "    <tr>\n",
       "      <th>4</th>\n",
       "      <td>177.223245</td>\n",
       "      <td>147.206279</td>\n",
       "      <td>168.027350</td>\n",
       "      <td>156.100620</td>\n",
       "      <td>152.158839</td>\n",
       "      <td>172.590200</td>\n",
       "      <td>127.733296</td>\n",
       "      <td>74.253922</td>\n",
       "      <td>130.432010</td>\n",
       "      <td>131.427591</td>\n",
       "      <td>...</td>\n",
       "      <td>106.449234</td>\n",
       "      <td>75.030395</td>\n",
       "      <td>74.989706</td>\n",
       "      <td>144.514074</td>\n",
       "      <td>61.131076</td>\n",
       "      <td>140.993916</td>\n",
       "      <td>200.702630</td>\n",
       "      <td>156.724491</td>\n",
       "      <td>124.513526</td>\n",
       "      <td>116.663395</td>\n",
       "    </tr>\n",
       "  </tbody>\n",
       "</table>\n",
       "<p>5 rows × 2289 columns</p>\n",
       "</div>"
      ],
      "text/plain": [
       "         0           1           2           3           4           5     \\\n",
       "0  163.659613  174.052143  215.516839  166.175612  192.800327  129.567258   \n",
       "1  124.973731  189.635357  193.326307  151.836113  169.711629  101.201230   \n",
       "2  212.844731  203.829873  225.232409  172.402584  214.910258  274.708806   \n",
       "3  201.413845  185.613776  196.134777  156.688058  178.187988  213.989635   \n",
       "4  177.223245  147.206279  168.027350  156.100620  152.158839  172.590200   \n",
       "\n",
       "         6           7           8           9        ...            2279  \\\n",
       "0  157.570269  133.963024  163.508843  188.023876     ...      116.304176   \n",
       "1  118.291080   87.739591  155.590560  173.191012     ...      115.128700   \n",
       "2  235.981551  181.632839  194.350307  224.125047     ...      103.362751   \n",
       "3  163.926392  180.052371  178.540305  182.241840     ...       93.423281   \n",
       "4  127.733296   74.253922  130.432010  131.427591     ...      106.449234   \n",
       "\n",
       "         2280        2281        2282        2283        2284        2285  \\\n",
       "0  181.388082  236.349698  215.974841  233.938367  137.582359  226.496060   \n",
       "1  138.999148  211.076446  231.628547  233.938367  136.054402  232.241357   \n",
       "2   76.720023  107.067295  159.706299  191.333019  119.869478  160.020750   \n",
       "3  107.696551  191.635483   87.709256   32.904244  157.119973  157.332204   \n",
       "4   75.030395   74.989706  144.514074   61.131076  140.993916  200.702630   \n",
       "\n",
       "         2286        2287        2288  \n",
       "0  198.414964  128.957522  190.841596  \n",
       "1  217.233168  129.771963  190.280234  \n",
       "2  204.988639  127.604598  119.937902  \n",
       "3   99.297173  120.218892  135.110378  \n",
       "4  156.724491  124.513526  116.663395  \n",
       "\n",
       "[5 rows x 2289 columns]"
      ]
     },
     "execution_count": 28,
     "metadata": {},
     "output_type": "execute_result"
    }
   ],
   "source": [
    "df.head()"
   ]
  },
  {
   "cell_type": "code",
   "execution_count": 33,
   "metadata": {
    "collapsed": true
   },
   "outputs": [],
   "source": [
    "normalize=dif/df.std()"
   ]
  },
  {
   "cell_type": "code",
   "execution_count": 37,
   "metadata": {},
   "outputs": [
    {
     "data": {
      "text/plain": [
       "0    1.0\n",
       "1    1.0\n",
       "2    1.0\n",
       "3    1.0\n",
       "4    1.0\n",
       "dtype: float64"
      ]
     },
     "execution_count": 37,
     "metadata": {},
     "output_type": "execute_result"
    }
   ],
   "source": [
    "normalize.var().head()"
   ]
  },
  {
   "cell_type": "code",
   "execution_count": 38,
   "metadata": {
    "collapsed": true
   },
   "outputs": [],
   "source": [
    "X_norm=normalize.as_matrix()"
   ]
  },
  {
   "cell_type": "code",
   "execution_count": 39,
   "metadata": {},
   "outputs": [
    {
     "data": {
      "text/plain": [
       "array([[ 0.69239614,  0.62852549,  0.95319281, ...,  1.00649258,\n",
       "         1.69649335,  1.17925047],\n",
       "       [ 0.24449828,  0.90355077,  0.69948254, ...,  1.21523893,\n",
       "         1.87598544,  1.17190249],\n",
       "       [ 1.26185219,  1.15406718,  1.06427351, ...,  1.07941297,\n",
       "         1.39832671,  0.25115185],\n",
       "       ..., \n",
       "       [-0.77907786, -0.51822588, -0.64540413, ...,  0.24847767,\n",
       "         0.62198913,  0.81717265],\n",
       "       [ 0.64600301,  0.9839999 ,  0.85712861, ...,  0.75250269,\n",
       "         0.93023095,  0.97664629],\n",
       "       [-0.58953432, -0.80267214, -0.67061083, ..., -0.18979379,\n",
       "        -0.69538191, -0.1374681 ]])"
      ]
     },
     "execution_count": 39,
     "metadata": {},
     "output_type": "execute_result"
    }
   ],
   "source": [
    "X_norm"
   ]
  },
  {
   "cell_type": "markdown",
   "metadata": {},
   "source": [
    "The following method takes your preprocesed matrix `X` as argument and displays a projection of the the data on the two first eigen vectors. \n",
    "\n",
    "- Do you see any interesting pattern?\n",
    "\n",
    "*Hint:* You should be able to obtain the same image as below:\n",
    "\n",
    "![Roestigraben pattern](images/roestigraben.png \"Plot to obtain\")\n",
    "\n",
    "Add color to your plot by setting `with_color=True` in `extract_voting_pattern`.\n",
    "\n",
    "- Does it confirm your intuition?"
   ]
  },
  {
   "cell_type": "code",
   "execution_count": 44,
   "metadata": {},
   "outputs": [
    {
     "data": {
      "image/png": "[encoded data removed]",
      "text/plain": [
       "<matplotlib.figure.Figure at 0x7f87c07c62b0>"
      ]
     },
     "metadata": {},
     "output_type": "display_data"
    }
   ],
   "source": [
    "from modules.politics import extract_voting_pattern\n",
    "\n",
    "extract_voting_pattern(X,with_color=True)\n",
    "plt.show()"
   ]
  },
  {
   "cell_type": "markdown",
   "metadata": {},
   "source": [
    "### Probabilities: Histogram of a distribution\n",
    "\n",
    "We created three vectors of random samples.\n",
    "\n",
    "- Can you guess from which distributions they have been generated?\n",
    "\n",
    "*Hint*: recall that a [histogram](https://en.wikipedia.org/wiki/Histogram) represents a distribution."
   ]
  },
  {
   "cell_type": "code",
   "execution_count": 45,
   "metadata": {
    "collapsed": true,
    "scrolled": true
   },
   "outputs": [],
   "source": [
    "distribution1 = np.load('data/distribution1.npy')\n",
    "distribution2 = np.load('data/distribution2.npy')\n",
    "distribution3 = np.load('data/distribution3.npy')"
   ]
  },
  {
   "cell_type": "markdown",
   "metadata": {},
   "source": [
    "Use the following cell:"
   ]
  },
  {
   "cell_type": "code",
   "execution_count": 50,
   "metadata": {},
   "outputs": [
    {
     "data": {
      "text/plain": [
       "(array([  421.,  2297.,  1730.,  3210.,   993.,  1026.,   270.,    31.,\n",
       "           18.,     4.]),\n",
       " array([  0. ,   1.6,   3.2,   4.8,   6.4,   8. ,   9.6,  11.2,  12.8,\n",
       "         14.4,  16. ]),\n",
       " <a list of 10 Patch objects>)"
      ]
     },
     "execution_count": 50,
     "metadata": {},
     "output_type": "execute_result"
    },
    {
     "data": {
      "image/png": "[encoded data removed]",
      "text/plain": [
       "<matplotlib.figure.Figure at 0x7f87be0287b8>"
      ]
     },
     "metadata": {},
     "output_type": "display_data"
    }
   ],
   "source": [
    "plt.hist(distribution3)"
   ]
  },
  {
   "cell_type": "markdown",
   "metadata": {},
   "source": [
    "## Going further\n",
    "\n",
    "If you want to learn more about Python for Data Science, the full O'Reilly's [Python Data Science Handbook](https://github.com/jakevdp/PythonDataScienceHandbook) book is available for free in the form of...notebooks on GitHub. A great ressource if you want to continue in this field!"
   ]
  },
  {
   "cell_type": "code",
   "execution_count": null,
   "metadata": {
    "collapsed": true
   },
   "outputs": [],
   "source": []
  }
 ],
 "metadata": {
  "anaconda-cloud": {},
  "kernelspec": {
   "display_name": "Python 3",
   "language": "python",
   "name": "python3"
  },
  "language_info": {
   "codemirror_mode": {
    "name": "ipython",
    "version": 3
   },
   "file_extension": ".py",
   "mimetype": "text/x-python",
   "name": "python",
   "nbconvert_exporter": "python",
   "pygments_lexer": "ipython3",
   "version": "3.6.3"
  }
 },
 "nbformat": 4,
 "nbformat_minor": 2
}
