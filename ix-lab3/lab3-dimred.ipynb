{
 "cells": [
  {
   "cell_type": "code",
   "execution_count": 1,
   "metadata": {
    "collapsed": true
   },
   "outputs": [],
   "source": [
    "import json\n",
    "from operator import itemgetter\n",
    "from pyspark.sql import functions as fun\n",
    "import matplotlib.pyplot as plt\n",
    "import numpy as np\n",
    "import pandas as pd\n",
    "import pickle\n",
    "%matplotlib inline\n",
    "plt.style.use(\"ggplot\")"
   ]
  },
  {
   "cell_type": "code",
   "execution_count": 2,
   "metadata": {},
   "outputs": [
    {
     "data": {
      "text/html": [
       "\n",
       "    <div class=\"bk-root\">\n",
       "        <a href=\"https://bokeh.pydata.org\" target=\"_blank\" class=\"bk-logo bk-logo-small bk-logo-notebook\"></a>\n",
       "        <span id=\"dcecc2fe-2b41-4f0b-8245-3e64cc3ffb22\">Loading BokehJS ...</span>\n",
       "    </div>"
      ]
     },
     "metadata": {},
     "output_type": "display_data"
    },
    {
     "data": {
      "application/javascript": [
       "\n",
       "(function(root) {\n",
       "  function now() {\n",
       "    return new Date();\n",
       "  }\n",
       "\n",
       "  var force = true;\n",
       "\n",
       "  if (typeof (root._bokeh_onload_callbacks) === \"undefined\" || force === true) {\n",
       "    root._bokeh_onload_callbacks = [];\n",
       "    root._bokeh_is_loading = undefined;\n",
       "  }\n",
       "\n",
       "  var JS_MIME_TYPE = 'application/javascript';\n",
       "  var HTML_MIME_TYPE = 'text/html';\n",
       "  var EXEC_MIME_TYPE = 'application/vnd.bokehjs_exec.v0+json';\n",
       "  var CLASS_NAME = 'output_bokeh rendered_html';\n",
       "\n",
       "  /**\n",
       "   * Render data to the DOM node\n",
       "   */\n",
       "  function render(props, node) {\n",
       "    var script = document.createElement(\"script\");\n",
       "    node.appendChild(script);\n",
       "  }\n",
       "\n",
       "  /**\n",
       "   * Handle when an output is cleared or removed\n",
       "   */\n",
       "  function handleClearOutput(event, handle) {\n",
       "    var cell = handle.cell;\n",
       "\n",
       "    var id = cell.output_area._bokeh_element_id;\n",
       "    var server_id = cell.output_area._bokeh_server_id;\n",
       "    // Clean up Bokeh references\n",
       "    if (id !== undefined) {\n",
       "      Bokeh.index[id].model.document.clear();\n",
       "      delete Bokeh.index[id];\n",
       "    }\n",
       "\n",
       "    if (server_id !== undefined) {\n",
       "      // Clean up Bokeh references\n",
       "      var cmd = \"from bokeh.io.state import curstate; print(curstate().uuid_to_server['\" + server_id + \"'].get_sessions()[0].document.roots[0]._id)\";\n",
       "      cell.notebook.kernel.execute(cmd, {\n",
       "        iopub: {\n",
       "          output: function(msg) {\n",
       "            var element_id = msg.content.text.trim();\n",
       "            Bokeh.index[element_id].model.document.clear();\n",
       "            delete Bokeh.index[element_id];\n",
       "          }\n",
       "        }\n",
       "      });\n",
       "      // Destroy server and session\n",
       "      var cmd = \"import bokeh.io.notebook as ion; ion.destroy_server('\" + server_id + \"')\";\n",
       "      cell.notebook.kernel.execute(cmd);\n",
       "    }\n",
       "  }\n",
       "\n",
       "  /**\n",
       "   * Handle when a new output is added\n",
       "   */\n",
       "  function handleAddOutput(event, handle) {\n",
       "    var output_area = handle.output_area;\n",
       "    var output = handle.output;\n",
       "\n",
       "    // limit handleAddOutput to display_data with EXEC_MIME_TYPE content only\n",
       "    if ((output.output_type != \"display_data\") || (!output.data.hasOwnProperty(EXEC_MIME_TYPE))) {\n",
       "      return\n",
       "    }\n",
       "\n",
       "    var toinsert = output_area.element.find(`.${CLASS_NAME.split(' ')[0]}`);\n",
       "\n",
       "    if (output.metadata[EXEC_MIME_TYPE][\"id\"] !== undefined) {\n",
       "      toinsert[0].firstChild.textContent = output.data[JS_MIME_TYPE];\n",
       "      // store reference to embed id on output_area\n",
       "      output_area._bokeh_element_id = output.metadata[EXEC_MIME_TYPE][\"id\"];\n",
       "    }\n",
       "    if (output.metadata[EXEC_MIME_TYPE][\"server_id\"] !== undefined) {\n",
       "      var bk_div = document.createElement(\"div\");\n",
       "      bk_div.innerHTML = output.data[HTML_MIME_TYPE];\n",
       "      var script_attrs = bk_div.children[0].attributes;\n",
       "      for (var i = 0; i < script_attrs.length; i++) {\n",
       "        toinsert[0].firstChild.setAttribute(script_attrs[i].name, script_attrs[i].value);\n",
       "      }\n",
       "      // store reference to server id on output_area\n",
       "      output_area._bokeh_server_id = output.metadata[EXEC_MIME_TYPE][\"server_id\"];\n",
       "    }\n",
       "  }\n",
       "\n",
       "  function register_renderer(events, OutputArea) {\n",
       "\n",
       "    function append_mime(data, metadata, element) {\n",
       "      // create a DOM node to render to\n",
       "      var toinsert = this.create_output_subarea(\n",
       "        metadata,\n",
       "        CLASS_NAME,\n",
       "        EXEC_MIME_TYPE\n",
       "      );\n",
       "      this.keyboard_manager.register_events(toinsert);\n",
       "      // Render to node\n",
       "      var props = {data: data, metadata: metadata[EXEC_MIME_TYPE]};\n",
       "      render(props, toinsert[0]);\n",
       "      element.append(toinsert);\n",
       "      return toinsert\n",
       "    }\n",
       "\n",
       "    /* Handle when an output is cleared or removed */\n",
       "    events.on('clear_output.CodeCell', handleClearOutput);\n",
       "    events.on('delete.Cell', handleClearOutput);\n",
       "\n",
       "    /* Handle when a new output is added */\n",
       "    events.on('output_added.OutputArea', handleAddOutput);\n",
       "\n",
       "    /**\n",
       "     * Register the mime type and append_mime function with output_area\n",
       "     */\n",
       "    OutputArea.prototype.register_mime_type(EXEC_MIME_TYPE, append_mime, {\n",
       "      /* Is output safe? */\n",
       "      safe: true,\n",
       "      /* Index of renderer in `output_area.display_order` */\n",
       "      index: 0\n",
       "    });\n",
       "  }\n",
       "\n",
       "  // register the mime type if in Jupyter Notebook environment and previously unregistered\n",
       "  if (root.Jupyter !== undefined) {\n",
       "    var events = require('base/js/events');\n",
       "    var OutputArea = require('notebook/js/outputarea').OutputArea;\n",
       "\n",
       "    if (OutputArea.prototype.mime_types().indexOf(EXEC_MIME_TYPE) == -1) {\n",
       "      register_renderer(events, OutputArea);\n",
       "    }\n",
       "  }\n",
       "\n",
       "  \n",
       "  if (typeof (root._bokeh_timeout) === \"undefined\" || force === true) {\n",
       "    root._bokeh_timeout = Date.now() + 5000;\n",
       "    root._bokeh_failed_load = false;\n",
       "  }\n",
       "\n",
       "  var NB_LOAD_WARNING = {'data': {'text/html':\n",
       "     \"<div style='background-color: #fdd'>\\n\"+\n",
       "     \"<p>\\n\"+\n",
       "     \"BokehJS does not appear to have successfully loaded. If loading BokehJS from CDN, this \\n\"+\n",
       "     \"may be due to a slow or bad network connection. Possible fixes:\\n\"+\n",
       "     \"</p>\\n\"+\n",
       "     \"<ul>\\n\"+\n",
       "     \"<li>re-rerun `output_notebook()` to attempt to load from CDN again, or</li>\\n\"+\n",
       "     \"<li>use INLINE resources instead, as so:</li>\\n\"+\n",
       "     \"</ul>\\n\"+\n",
       "     \"<code>\\n\"+\n",
       "     \"from bokeh.resources import INLINE\\n\"+\n",
       "     \"output_notebook(resources=INLINE)\\n\"+\n",
       "     \"</code>\\n\"+\n",
       "     \"</div>\"}};\n",
       "\n",
       "  function display_loaded() {\n",
       "    var el = document.getElementById(\"dcecc2fe-2b41-4f0b-8245-3e64cc3ffb22\");\n",
       "    if (el != null) {\n",
       "      el.textContent = \"BokehJS is loading...\";\n",
       "    }\n",
       "    if (root.Bokeh !== undefined) {\n",
       "      if (el != null) {\n",
       "        el.textContent = \"BokehJS \" + root.Bokeh.version + \" successfully loaded.\";\n",
       "      }\n",
       "    } else if (Date.now() < root._bokeh_timeout) {\n",
       "      setTimeout(display_loaded, 100)\n",
       "    }\n",
       "  }\n",
       "\n",
       "\n",
       "  function run_callbacks() {\n",
       "    try {\n",
       "      root._bokeh_onload_callbacks.forEach(function(callback) { callback() });\n",
       "    }\n",
       "    finally {\n",
       "      delete root._bokeh_onload_callbacks\n",
       "    }\n",
       "    console.info(\"Bokeh: all callbacks have finished\");\n",
       "  }\n",
       "\n",
       "  function load_libs(js_urls, callback) {\n",
       "    root._bokeh_onload_callbacks.push(callback);\n",
       "    if (root._bokeh_is_loading > 0) {\n",
       "      console.log(\"Bokeh: BokehJS is being loaded, scheduling callback at\", now());\n",
       "      return null;\n",
       "    }\n",
       "    if (js_urls == null || js_urls.length === 0) {\n",
       "      run_callbacks();\n",
       "      return null;\n",
       "    }\n",
       "    console.log(\"Bokeh: BokehJS not loaded, scheduling load and callback at\", now());\n",
       "    root._bokeh_is_loading = js_urls.length;\n",
       "    for (var i = 0; i < js_urls.length; i++) {\n",
       "      var url = js_urls[i];\n",
       "      var s = document.createElement('script');\n",
       "      s.src = url;\n",
       "      s.async = false;\n",
       "      s.onreadystatechange = s.onload = function() {\n",
       "        root._bokeh_is_loading--;\n",
       "        if (root._bokeh_is_loading === 0) {\n",
       "          console.log(\"Bokeh: all BokehJS libraries loaded\");\n",
       "          run_callbacks()\n",
       "        }\n",
       "      };\n",
       "      s.onerror = function() {\n",
       "        console.warn(\"failed to load library \" + url);\n",
       "      };\n",
       "      console.log(\"Bokeh: injecting script tag for BokehJS library: \", url);\n",
       "      document.getElementsByTagName(\"head\")[0].appendChild(s);\n",
       "    }\n",
       "  };var element = document.getElementById(\"dcecc2fe-2b41-4f0b-8245-3e64cc3ffb22\");\n",
       "  if (element == null) {\n",
       "    console.log(\"Bokeh: ERROR: autoload.js configured with elementid 'dcecc2fe-2b41-4f0b-8245-3e64cc3ffb22' but no matching script tag was found. \")\n",
       "    return false;\n",
       "  }\n",
       "\n",
       "  var js_urls = [\"https://cdn.pydata.org/bokeh/release/bokeh-0.12.10.min.js\", \"https://cdn.pydata.org/bokeh/release/bokeh-widgets-0.12.10.min.js\", \"https://cdn.pydata.org/bokeh/release/bokeh-tables-0.12.10.min.js\", \"https://cdn.pydata.org/bokeh/release/bokeh-gl-0.12.10.min.js\"];\n",
       "\n",
       "  var inline_js = [\n",
       "    function(Bokeh) {\n",
       "      Bokeh.set_log_level(\"info\");\n",
       "    },\n",
       "    \n",
       "    function(Bokeh) {\n",
       "      \n",
       "    },\n",
       "    function(Bokeh) {\n",
       "      console.log(\"Bokeh: injecting CSS: https://cdn.pydata.org/bokeh/release/bokeh-0.12.10.min.css\");\n",
       "      Bokeh.embed.inject_css(\"https://cdn.pydata.org/bokeh/release/bokeh-0.12.10.min.css\");\n",
       "      console.log(\"Bokeh: injecting CSS: https://cdn.pydata.org/bokeh/release/bokeh-widgets-0.12.10.min.css\");\n",
       "      Bokeh.embed.inject_css(\"https://cdn.pydata.org/bokeh/release/bokeh-widgets-0.12.10.min.css\");\n",
       "      console.log(\"Bokeh: injecting CSS: https://cdn.pydata.org/bokeh/release/bokeh-tables-0.12.10.min.css\");\n",
       "      Bokeh.embed.inject_css(\"https://cdn.pydata.org/bokeh/release/bokeh-tables-0.12.10.min.css\");\n",
       "    }\n",
       "  ];\n",
       "\n",
       "  function run_inline_js() {\n",
       "    \n",
       "    if ((root.Bokeh !== undefined) || (force === true)) {\n",
       "      for (var i = 0; i < inline_js.length; i++) {\n",
       "        inline_js[i].call(root, root.Bokeh);\n",
       "      }if (force === true) {\n",
       "        display_loaded();\n",
       "      }} else if (Date.now() < root._bokeh_timeout) {\n",
       "      setTimeout(run_inline_js, 100);\n",
       "    } else if (!root._bokeh_failed_load) {\n",
       "      console.log(\"Bokeh: BokehJS failed to load within specified timeout.\");\n",
       "      root._bokeh_failed_load = true;\n",
       "    } else if (force !== true) {\n",
       "      var cell = $(document.getElementById(\"dcecc2fe-2b41-4f0b-8245-3e64cc3ffb22\")).parents('.cell').data().cell;\n",
       "      cell.output_area.append_execute_result(NB_LOAD_WARNING)\n",
       "    }\n",
       "\n",
       "  }\n",
       "\n",
       "  if (root._bokeh_is_loading === 0) {\n",
       "    console.log(\"Bokeh: BokehJS loaded, going straight to plotting\");\n",
       "    run_inline_js();\n",
       "  } else {\n",
       "    load_libs(js_urls, function() {\n",
       "      console.log(\"Bokeh: BokehJS plotting callback run at\", now());\n",
       "      run_inline_js();\n",
       "    });\n",
       "  }\n",
       "}(window));"
      ],
      "application/vnd.bokehjs_load.v0+json": "\n(function(root) {\n  function now() {\n    return new Date();\n  }\n\n  var force = true;\n\n  if (typeof (root._bokeh_onload_callbacks) === \"undefined\" || force === true) {\n    root._bokeh_onload_callbacks = [];\n    root._bokeh_is_loading = undefined;\n  }\n\n  \n\n  \n  if (typeof (root._bokeh_timeout) === \"undefined\" || force === true) {\n    root._bokeh_timeout = Date.now() + 5000;\n    root._bokeh_failed_load = false;\n  }\n\n  var NB_LOAD_WARNING = {'data': {'text/html':\n     \"<div style='background-color: #fdd'>\\n\"+\n     \"<p>\\n\"+\n     \"BokehJS does not appear to have successfully loaded. If loading BokehJS from CDN, this \\n\"+\n     \"may be due to a slow or bad network connection. Possible fixes:\\n\"+\n     \"</p>\\n\"+\n     \"<ul>\\n\"+\n     \"<li>re-rerun `output_notebook()` to attempt to load from CDN again, or</li>\\n\"+\n     \"<li>use INLINE resources instead, as so:</li>\\n\"+\n     \"</ul>\\n\"+\n     \"<code>\\n\"+\n     \"from bokeh.resources import INLINE\\n\"+\n     \"output_notebook(resources=INLINE)\\n\"+\n     \"</code>\\n\"+\n     \"</div>\"}};\n\n  function display_loaded() {\n    var el = document.getElementById(\"dcecc2fe-2b41-4f0b-8245-3e64cc3ffb22\");\n    if (el != null) {\n      el.textContent = \"BokehJS is loading...\";\n    }\n    if (root.Bokeh !== undefined) {\n      if (el != null) {\n        el.textContent = \"BokehJS \" + root.Bokeh.version + \" successfully loaded.\";\n      }\n    } else if (Date.now() < root._bokeh_timeout) {\n      setTimeout(display_loaded, 100)\n    }\n  }\n\n\n  function run_callbacks() {\n    try {\n      root._bokeh_onload_callbacks.forEach(function(callback) { callback() });\n    }\n    finally {\n      delete root._bokeh_onload_callbacks\n    }\n    console.info(\"Bokeh: all callbacks have finished\");\n  }\n\n  function load_libs(js_urls, callback) {\n    root._bokeh_onload_callbacks.push(callback);\n    if (root._bokeh_is_loading > 0) {\n      console.log(\"Bokeh: BokehJS is being loaded, scheduling callback at\", now());\n      return null;\n    }\n    if (js_urls == null || js_urls.length === 0) {\n      run_callbacks();\n      return null;\n    }\n    console.log(\"Bokeh: BokehJS not loaded, scheduling load and callback at\", now());\n    root._bokeh_is_loading = js_urls.length;\n    for (var i = 0; i < js_urls.length; i++) {\n      var url = js_urls[i];\n      var s = document.createElement('script');\n      s.src = url;\n      s.async = false;\n      s.onreadystatechange = s.onload = function() {\n        root._bokeh_is_loading--;\n        if (root._bokeh_is_loading === 0) {\n          console.log(\"Bokeh: all BokehJS libraries loaded\");\n          run_callbacks()\n        }\n      };\n      s.onerror = function() {\n        console.warn(\"failed to load library \" + url);\n      };\n      console.log(\"Bokeh: injecting script tag for BokehJS library: \", url);\n      document.getElementsByTagName(\"head\")[0].appendChild(s);\n    }\n  };var element = document.getElementById(\"dcecc2fe-2b41-4f0b-8245-3e64cc3ffb22\");\n  if (element == null) {\n    console.log(\"Bokeh: ERROR: autoload.js configured with elementid 'dcecc2fe-2b41-4f0b-8245-3e64cc3ffb22' but no matching script tag was found. \")\n    return false;\n  }\n\n  var js_urls = [\"https://cdn.pydata.org/bokeh/release/bokeh-0.12.10.min.js\", \"https://cdn.pydata.org/bokeh/release/bokeh-widgets-0.12.10.min.js\", \"https://cdn.pydata.org/bokeh/release/bokeh-tables-0.12.10.min.js\", \"https://cdn.pydata.org/bokeh/release/bokeh-gl-0.12.10.min.js\"];\n\n  var inline_js = [\n    function(Bokeh) {\n      Bokeh.set_log_level(\"info\");\n    },\n    \n    function(Bokeh) {\n      \n    },\n    function(Bokeh) {\n      console.log(\"Bokeh: injecting CSS: https://cdn.pydata.org/bokeh/release/bokeh-0.12.10.min.css\");\n      Bokeh.embed.inject_css(\"https://cdn.pydata.org/bokeh/release/bokeh-0.12.10.min.css\");\n      console.log(\"Bokeh: injecting CSS: https://cdn.pydata.org/bokeh/release/bokeh-widgets-0.12.10.min.css\");\n      Bokeh.embed.inject_css(\"https://cdn.pydata.org/bokeh/release/bokeh-widgets-0.12.10.min.css\");\n      console.log(\"Bokeh: injecting CSS: https://cdn.pydata.org/bokeh/release/bokeh-tables-0.12.10.min.css\");\n      Bokeh.embed.inject_css(\"https://cdn.pydata.org/bokeh/release/bokeh-tables-0.12.10.min.css\");\n    }\n  ];\n\n  function run_inline_js() {\n    \n    if ((root.Bokeh !== undefined) || (force === true)) {\n      for (var i = 0; i < inline_js.length; i++) {\n        inline_js[i].call(root, root.Bokeh);\n      }if (force === true) {\n        display_loaded();\n      }} else if (Date.now() < root._bokeh_timeout) {\n      setTimeout(run_inline_js, 100);\n    } else if (!root._bokeh_failed_load) {\n      console.log(\"Bokeh: BokehJS failed to load within specified timeout.\");\n      root._bokeh_failed_load = true;\n    } else if (force !== true) {\n      var cell = $(document.getElementById(\"dcecc2fe-2b41-4f0b-8245-3e64cc3ffb22\")).parents('.cell').data().cell;\n      cell.output_area.append_execute_result(NB_LOAD_WARNING)\n    }\n\n  }\n\n  if (root._bokeh_is_loading === 0) {\n    console.log(\"Bokeh: BokehJS loaded, going straight to plotting\");\n    run_inline_js();\n  } else {\n    load_libs(js_urls, function() {\n      console.log(\"Bokeh: BokehJS plotting callback run at\", now());\n      run_inline_js();\n    });\n  }\n}(window));"
     },
     "metadata": {},
     "output_type": "display_data"
    }
   ],
   "source": [
    "from bokeh.plotting import figure, output_file, show, ColumnDataSource\n",
    "from bokeh.models import HoverTool\n",
    "import matplotlib as mpl\n",
    "from bokeh.io import push_notebook, show, output_notebook\n",
    "from bokeh.models import HoverTool\n",
    "output_notebook()"
   ]
  },
  {
   "cell_type": "code",
   "execution_count": 3,
   "metadata": {},
   "outputs": [
    {
     "name": "stdout",
     "output_type": "stream",
     "text": [
      "{\"relevance\": 0.11449999999999999, \"tagId\": 1127, \"movieId\": 131170}\r\n",
      "{\"relevance\": 0.02174999999999999, \"tagId\": 1128, \"movieId\": 131170}\r\n"
     ]
    }
   ],
   "source": [
    "!hdfs dfs -cat /ix/ml-20m/genome-scores.txt  | tail -n 2"
   ]
  },
  {
   "cell_type": "code",
   "execution_count": 4,
   "metadata": {
    "collapsed": true
   },
   "outputs": [],
   "source": [
    "gen_tag= sc.textFile(\"/ix/ml-20m/genome-tags.txt\").map(json.loads)\n",
    "gentag = dict(gen_tag.map(itemgetter(\"tagId\", \"tag\")).collect())"
   ]
  },
  {
   "cell_type": "code",
   "execution_count": 5,
   "metadata": {
    "collapsed": true
   },
   "outputs": [],
   "source": [
    "gen_score= sc.textFile(\"/ix/ml-20m/genome-scores.txt\").map(json.loads)"
   ]
  },
  {
   "cell_type": "code",
   "execution_count": 6,
   "metadata": {
    "collapsed": true
   },
   "outputs": [],
   "source": [
    "movies = sc.textFile(\"/ix/ml-20m/movies.txt\").map(json.loads)"
   ]
  },
  {
   "cell_type": "code",
   "execution_count": 7,
   "metadata": {},
   "outputs": [
    {
     "name": "stderr",
     "output_type": "stream",
     "text": [
      "/usr/hdp/current/spark-client/python/pyspark/sql/context.py:259: UserWarning: Using RDD of dict to inferSchema is deprecated. Use pyspark.sql.Row instead\n",
      "  warnings.warn(\"Using RDD of dict to inferSchema is deprecated. \"\n"
     ]
    }
   ],
   "source": [
    "genscore_DF = gen_score.toDF(['movieId', 'relevance', 'tagId'])# transform gen score file into a dataset"
   ]
  },
  {
   "cell_type": "markdown",
   "metadata": {
    "collapsed": true
   },
   "source": [
    "We want to Construct an M ×N data matrix, where M is the number of tags and N the number of movies. So let's group the movies by ID."
   ]
  },
  {
   "cell_type": "code",
   "execution_count": 8,
   "metadata": {
    "collapsed": true
   },
   "outputs": [],
   "source": [
    "gen_groups = genscore_DF.groupBy('movieId').agg(fun.collect_list('relevance'), fun.collect_list('tagId'))"
   ]
  },
  {
   "cell_type": "code",
   "execution_count": 9,
   "metadata": {},
   "outputs": [
    {
     "data": {
      "text/plain": [
       "(1128, 10381)"
      ]
     },
     "execution_count": 9,
     "metadata": {},
     "output_type": "execute_result"
    }
   ],
   "source": [
    "gen_groups_collect = gen_groups.collect()\n",
    "MN_matrix = np.zeros( (len(gentag), len(gen_groups_collect)) ) \n",
    "MN_matrix.shape#We check the size of the MxN matrix"
   ]
  },
  {
   "cell_type": "markdown",
   "metadata": {},
   "source": [
    "We can see that for each movie, we get the relevance associated with each tag. Now we need to build the matrix from this. "
   ]
  },
  {
   "cell_type": "code",
   "execution_count": 10,
   "metadata": {},
   "outputs": [
    {
     "data": {
      "text/plain": [
       "Row(movieId=31, collect_list(relevance)=[0.04099999999999998, 0.05125000000000002, 0.020500000000000018, 0.032999999999999974, 0.09225, 0.11125000000000002, 0.027000000000000024, 0.11299999999999999, 0.07524999999999998, 0.017249999999999988, 0.025749999999999995, 0.035499999999999976, 0.19574999999999998, 0.008500000000000008, 0.0027499999999999747, 0.026249999999999996, 0.016500000000000015, 0.118, 0.17125, 0.15825, 0.36524999999999996, 0.248, 0.11225000000000002, 0.05449999999999999, 0.14100000000000001, 0.16725, 0.05275000000000002, 0.044499999999999984, 0.1795, 0.062, 0.008000000000000007, 0.02350000000000002, 0.0605, 0.031000000000000028, 0.035750000000000004, 0.09375, 0.0695, 0.02150000000000002, 0.014249999999999985, 0.007249999999999979, 0.03949999999999998, 0.049750000000000016, 0.07200000000000001, 0.07850000000000001, 0.058750000000000024, 0.13624999999999998, 0.007500000000000007, 0.2945, 0.18874999999999997, 0.09775, 0.16899999999999998, 0.11775000000000002, 0.02975, 0.08074999999999999, 0.09075, 0.01824999999999999, 0.00874999999999998, 0.26449999999999996, 0.09625, 0.013749999999999984, 0.029000000000000026, 0.07024999999999998, 0.012500000000000011, 0.034999999999999976, 0.016500000000000015, 0.017500000000000016, 0.04949999999999999, 0.03849999999999998, 0.010000000000000009, 0.15300000000000002, 0.009500000000000008, 0.14375, 0.03975000000000001, 0.007749999999999979, 0.09325, 0.023749999999999993, 0.013500000000000012, 0.035999999999999976, 0.05725000000000002, 0.025749999999999995, 0.04225000000000001, 0.0625, 0.038250000000000006, 0.04099999999999998, 0.17625000000000002, 0.15100000000000002, 0.025249999999999995, 0.025000000000000022, 0.04225000000000001, 0.03699999999999998, 0.09949999999999998, 0.046750000000000014, 0.12425000000000003, 0.3225, 0.07874999999999999, 0.18175000000000002, 0.18475000000000003, 0.33425000000000005, 0.1965, 0.2495, 0.08574999999999999, 0.024249999999999994, 0.009749999999999981, 0.008000000000000007, 0.04249999999999998, 0.008000000000000007, 0.5855, 0.03999999999999998, 0.1185, 0.51875, 0.025249999999999995, 0.08050000000000002, 0.189, 0.00924999999999998, 0.85775, 0.08124999999999999, 0.004249999999999976, 0.03799999999999998, 0.0022499999999999742, 0.04299999999999998, 0.16425, 0.09875, 0.014500000000000013, 0.12874999999999998, 0.03949999999999998, 0.03899999999999998, 0.03175, 0.19574999999999998, 0.365, 0.015249999999999986, 0.015749999999999986, 0.546, 0.18325000000000002, 0.049750000000000016, 0.53475, 0.01150000000000001, 0.025749999999999995, 0.14750000000000002, 0.02975, 0.043999999999999984, 0.07450000000000001, 0.011749999999999983, 0.08150000000000002, 0.09799999999999998, 0.029249999999999998, 0.060750000000000026, 0.14925, 0.014000000000000012, 0.0665, 0.017000000000000015, 0.059250000000000025, 0.09449999999999997, 0.15300000000000002, 0.1985, 0.10125, 0.0675, 0.03975000000000001, 0.013500000000000012, 0.035250000000000004, 0.09775, 0.024500000000000022, 0.09849999999999998, 0.01924999999999999, 0.11175000000000002, 0.02074999999999999, 0.033999999999999975, 0.07450000000000001, 0.03949999999999998, 0.23299999999999998, 0.07, 0.057999999999999996, 0.38875000000000004, 0.02250000000000002, 0.010749999999999982, 0.08900000000000002, 0.2005, 0.11025000000000001, 0.022249999999999992, 0.1325, 0.013249999999999984, 0.03425, 0.1285, 0.08574999999999999, 0.015000000000000013, 0.04049999999999998, 0.03075, 0.011249999999999982, 0.53075, 0.03225, 0.024749999999999994, 0.07824999999999999, 0.12674999999999997, 0.04799999999999999, 0.0625, 0.26475000000000004, 0.1205, 0.08625, 0.32125000000000004, 0.047250000000000014, 0.02150000000000002, 0.12025000000000002, 0.025500000000000023, 0.7225, 0.30900000000000005, 0.008500000000000008, 0.03375, 0.009749999999999981, 0.11975000000000002, 0.035499999999999976, 0.0050000000000000044, 0.01874999999999999, 0.15050000000000002, 0.013000000000000012, 0.02124999999999999, 0.10199999999999998, 0.2015, 0.012249999999999983, 0.05349999999999999, 0.0015000000000000013, 0.20825, 0.25149999999999995, 0.10425000000000001, 0.024500000000000022, 0.02174999999999999, 0.006749999999999978, 0.03375, 0.1355, 0.009749999999999981, 0.049750000000000016, 0.06924999999999998, 0.05075000000000002, 0.031000000000000028, 0.027000000000000024, 0.04475000000000001, 0.28474999999999995, 0.28900000000000003, 0.008500000000000008, 0.29225, 0.16025, 0.09999999999999998, 0.04349999999999998, 0.05349999999999999, 0.04525000000000001, 0.14150000000000001, 0.11975000000000002, 0.08474999999999999, 0.02200000000000002, 0.04325000000000001, 0.05149999999999999, 0.013249999999999984, 0.08474999999999999, 0.035499999999999976, 0.017500000000000016, 0.0040000000000000036, 0.25475000000000003, 0.26125, 0.027500000000000024, 0.20650000000000002, 0.05175000000000002, 0.17375000000000002, 0.02074999999999999, 0.05225000000000002, 0.024500000000000022, 0.08925, 0.03649999999999998, 0.33425000000000005, 0.024249999999999994, 0.21075, 0.15999999999999998, 0.19974999999999998, 0.023749999999999993, 0.21250000000000002, 0.010000000000000009, 0.06424999999999997, 0.16425, 0.20500000000000002, 0.29800000000000004, 0.07750000000000001, 0.05049999999999999, 0.03025, 0.015500000000000014, 0.047750000000000015, 0.036250000000000004, 0.059750000000000025, 0.04149999999999998, 0.05725000000000002, 0.057499999999999996, 0.1745, 0.020000000000000018, 0.014749999999999985, 0.0040000000000000036, 0.5865, 0.07450000000000001, 0.10999999999999999, 0.005749999999999977, 0.018000000000000016, 0.16375, 0.029500000000000026, 0.6175, 0.034999999999999976, 0.02250000000000002, 0.4085, 0.024749999999999994, 0.12075000000000002, 0.10575000000000001, 0.066, 0.015500000000000014, 0.16949999999999998, 0.037750000000000006, 0.015000000000000013, 0.122, 0.05575000000000002, 0.07774999999999999, 0.139, 0.02150000000000002, 0.026249999999999996, 0.007000000000000006, 0.011249999999999982, 0.08825, 0.014000000000000012, 0.016500000000000015, 0.07324999999999998, 0.7425, 0.2885, 0.16475, 0.192, 0.035499999999999976, 0.20500000000000002, 0.14400000000000002, 0.055999999999999994, 0.07100000000000001, 0.07350000000000001, 0.07050000000000001, 0.1235, 0.10175000000000001, 0.059750000000000025, 0.07574999999999998, 0.25049999999999994, 0.0595, 0.0050000000000000044, 0.028749999999999998, 0.01924999999999999, 0.625, 0.04199999999999998, 0.12175000000000002, 0.023749999999999993, 0.010749999999999982, 0.21750000000000003, 0.07100000000000001, 0.07874999999999999, 0.16899999999999998, 0.012249999999999983, 0.07424999999999998, 0.08424999999999999, 0.20675, 0.23075, 0.22099999999999997, 0.028500000000000025, 0.03425, 0.09150000000000003, 0.01974999999999999, 0.177, 0.026000000000000023, 0.27149999999999996, 0.21899999999999997, 0.15375, 0.135, 0.252, 0.027749999999999997, 0.10575000000000001, 0.03325, 0.03125, 0.014000000000000012, 0.29400000000000004, 0.04125000000000001, 0.10425000000000001, 0.22425, 0.46799999999999997, 0.057750000000000024, 0.03849999999999998, 0.07400000000000001, 0.08524999999999999, 0.05449999999999999, 0.02400000000000002, 0.06374999999999997, 0.03425, 0.54875, 0.649, 0.23325, 0.10449999999999998, 0.09475, 0.013749999999999984, 0.05475000000000002, 0.033999999999999975, 0.03325, 0.31599999999999995, 0.027749999999999997, 0.025749999999999995, 0.0037499999999999756, 0.03699999999999998, 0.14525, 0.04275000000000001, 0.05725000000000002, 0.014749999999999985, 0.017749999999999988, 0.13774999999999998, 0.023749999999999993, 0.015000000000000013, 0.05049999999999999, 0.14425, 0.032999999999999974, 0.6305, 0.013500000000000012, 0.2005, 0.41874999999999996, 0.046750000000000014, 0.059750000000000025, 0.08174999999999999, 0.09799999999999998, 0.08300000000000002, 0.028000000000000025, 0.39649999999999996, 0.24625000000000002, 0.7805, 0.046999999999999986, 0.07374999999999998, 0.14325, 0.14100000000000001, 0.08800000000000002, 0.016500000000000015, 0.023749999999999993, 0.034999999999999976, 0.028749999999999998, 0.01200000000000001, 0.025749999999999995, 0.061, 0.04275000000000001, 0.018500000000000016, 0.48775, 0.025500000000000023, 0.046499999999999986, 0.15075, 0.09275, 0.03275, 0.7642500000000001, 0.25149999999999995, 0.28925, 0.20925, 0.14275, 0.09425, 0.03649999999999998, 0.7845, 0.31475, 0.12325000000000003, 0.21250000000000002, 0.009500000000000008, 0.04199999999999998, 0.09599999999999997, 0.08950000000000002, 0.034499999999999975, 0.1185, 0.033999999999999975, 0.03125, 0.4625, 0.25749999999999995, 0.04099999999999998, 0.04225000000000001, 0.41500000000000004, 0.22749999999999998, 0.048750000000000016, 0.26775000000000004, 0.21650000000000003, 0.05049999999999999, 0.16699999999999998, 0.187, 0.012249999999999983, 0.01924999999999999, 0.11875000000000002, 0.09699999999999998, 0.013000000000000012, 0.11025000000000001, 0.03925000000000001, 0.05525000000000002, 0.11099999999999999, 0.05025000000000002, 0.016000000000000014, 0.02024999999999999, 0.016249999999999987, 0.0015000000000000013, 0.6615, 0.029000000000000026, 0.00874999999999998, 0.23175, 0.015749999999999986, 0.09425, 0.057999999999999996, 0.23525000000000001, 0.04349999999999998, 0.01100000000000001, 0.014000000000000012, 0.016749999999999987, 0.15075, 0.9095, 0.192, 0.05199999999999999, 0.012500000000000011, 0.68925, 0.058499999999999996, 0.02024999999999999, 0.05099999999999999, 0.010749999999999982, 0.058499999999999996, 0.01924999999999999, 0.034999999999999976, 0.010749999999999982, 0.22925, 0.02174999999999999, 0.015249999999999986, 0.30800000000000005, 0.015000000000000013, 0.15125, 0.028749999999999998, 0.024249999999999994, 0.16049999999999998, 0.02100000000000002, 0.06125000000000003, 0.06374999999999997, 0.03249999999999997, 0.03749999999999998, 0.023249999999999993, 0.18625000000000003, 0.14325, 0.12325000000000003, 0.028000000000000025, 0.07250000000000001, 0.15200000000000002, 0.046750000000000014, 0.07550000000000001, 0.007500000000000007, 0.10875000000000001, 0.006000000000000005, 0.0050000000000000044, 0.10825000000000001, 0.05399999999999999, 0.027249999999999996, 0.03999999999999998, 0.11325000000000002, 0.8772500000000001, 0.723, 0.09799999999999998, 0.0675, 0.06574999999999998, 0.14975, 0.19524999999999998, 0.35850000000000004, 0.08374999999999999, 0.08700000000000002, 0.06824999999999998, 0.006249999999999978, 0.01050000000000001, 0.004249999999999976, 0.033499999999999974, 0.01824999999999999, 0.10699999999999998, 0.08775, 0.022749999999999992, 0.07500000000000001, 0.33175, 0.01874999999999999, 0.013000000000000012, 0.009500000000000008, 0.012749999999999984, 0.005249999999999977, 0.020000000000000018, 0.01150000000000001, 0.009749999999999981, 0.009500000000000008, 0.01200000000000001, 0.08450000000000002, 0.03475, 0.04249999999999998, 0.057750000000000024, 0.01874999999999999, 0.6475, 0.34275, 0.05499999999999999, 0.022749999999999992, 0.59725, 0.1195, 0.032999999999999974, 0.0040000000000000036, 0.02350000000000002, 0.003249999999999975, 0.14975, 0.05375000000000002, 0.05099999999999999, 0.07324999999999998, 0.03199999999999997, 0.011249999999999982, 0.5065, 0.31499999999999995, 0.56275, 0.19424999999999998, 0.03475, 0.01924999999999999, 0.08424999999999999, 0.035250000000000004, 0.07874999999999999, 0.28974999999999995, 0.20725, 0.05325000000000002, 0.06, 0.11299999999999999, 0.16975, 0.038250000000000006, 0.058250000000000024, 0.01200000000000001, 0.11599999999999999, 0.06874999999999998, 0.14550000000000002, 0.04799999999999999, 0.048250000000000015, 0.09999999999999998, 0.03899999999999998, 0.15300000000000002, 0.019000000000000017, 0.08474999999999999, 0.012500000000000011, 0.03375, 0.27975000000000005, 0.015000000000000013, 0.013500000000000012, 0.0040000000000000036, 0.08850000000000002, 0.32199999999999995, 0.03999999999999998, 0.049250000000000016, 0.045999999999999985, 0.04899999999999999, 0.245, 0.09275, 0.11599999999999999, 0.05499999999999999, 0.03999999999999998, 0.11199999999999999, 0.8, 0.01924999999999999, 0.015000000000000013, 0.020000000000000018, 0.023249999999999993, 0.033499999999999974, 0.06724999999999998, 0.02174999999999999, 0.019500000000000017, 0.04899999999999999, 0.023749999999999993, 0.003500000000000003, 0.04475000000000001, 0.007500000000000007, 0.09549999999999997, 0.06624999999999998, 0.03899999999999998, 0.11725000000000002, 0.056499999999999995, 0.01150000000000001, 0.035250000000000004, 0.023249999999999993, 0.1185, 0.13224999999999998, 0.016749999999999987, 0.017500000000000016, 0.09725, 0.02150000000000002, 0.007249999999999979, 0.09250000000000003, 0.06474999999999997, 0.024749999999999994, 0.012249999999999983, 0.21625, 0.014500000000000013, 0.04475000000000001, 0.07850000000000001, 0.05025000000000002, 0.09499999999999997, 0.033499999999999974, 0.09175, 0.03225, 0.05375000000000002, 0.02174999999999999, 0.12574999999999997, 0.1245, 0.02350000000000002, 0.012749999999999984, 0.44525000000000003, 0.00824999999999998, 0.016000000000000014, 0.014500000000000013, 0.010749999999999982, 0.01200000000000001, 0.017249999999999988, 0.17025, 0.33775, 0.07474999999999998, 0.047750000000000015, 0.07424999999999998, 0.008000000000000007, 0.09325, 0.01050000000000001, 0.11275000000000002, 0.15699999999999997, 0.017749999999999988, 0.02150000000000002, 0.013000000000000012, 0.02350000000000002, 0.05425000000000002, 0.11825000000000002, 0.3435, 0.14800000000000002, 0.22299999999999998, 0.06474999999999997, 0.04325000000000001, 0.012500000000000011, 0.01924999999999999, 0.012749999999999984, 0.01974999999999999, 0.238, 0.12974999999999998, 0.029249999999999998, 0.0625, 0.10275000000000001, 0.25275000000000003, 0.07100000000000001, 0.05475000000000002, 0.05099999999999999, 0.08224999999999999, 0.013749999999999984, 0.017249999999999988, 0.016000000000000014, 0.046499999999999986, 0.014749999999999985, 0.034999999999999976, 0.65025, 0.28600000000000003, 0.037750000000000006, 0.2395, 0.057750000000000024, 0.173, 0.026000000000000023, 0.048750000000000016, 0.21425, 0.049250000000000016, 0.14400000000000002, 0.064, 0.018000000000000016, 0.05075000000000002, 0.03225, 0.026249999999999996, 0.06474999999999997, 0.19224999999999998, 0.07900000000000001, 0.20325, 0.046499999999999986, 0.26575000000000004, 0.006000000000000005, 0.11225000000000002, 0.05149999999999999, 0.07974999999999999, 0.031000000000000028, 0.02975, 0.03875000000000001, 0.1925, 0.01200000000000001, 0.04175000000000001, 0.08450000000000002, 0.00824999999999998, 0.07050000000000001, 0.45925000000000005, 0.07200000000000001, 0.08000000000000002, 0.12624999999999997, 0.016500000000000015, 0.03975000000000001, 0.017000000000000015, 0.0025000000000000022, 0.003249999999999975, 0.009500000000000008, 0.16975, 0.15925, 0.05449999999999999, 0.41274999999999995, 0.13324999999999998, 0.13774999999999998, 0.09849999999999998, 0.03799999999999998, 0.012500000000000011, 0.05575000000000002, 0.21875, 0.06175000000000003, 0.05399999999999999, 0.05449999999999999, 0.25849999999999995, 0.07400000000000001, 0.03875000000000001, 0.047250000000000014, 0.349, 0.122, 0.391, 0.04175000000000001, 0.173, 0.013500000000000012, 0.02975, 0.03375, 0.14200000000000002, 0.09125, 0.009500000000000008, 0.06, 0.032999999999999974, 0.027749999999999997, 0.055499999999999994, 0.018000000000000016, 0.034499999999999975, 0.05449999999999999, 0.11925000000000002, 0.08850000000000002, 0.11025000000000001, 0.020500000000000018, 0.025500000000000023, 0.14600000000000002, 0.15899999999999997, 0.1325, 0.024500000000000022, 0.31575, 0.19674999999999998, 0.246, 0.15150000000000002, 0.07424999999999998, 0.1345, 0.012249999999999983, 0.03975000000000001, 0.2495, 0.10575000000000001, 0.06474999999999997, 0.28700000000000003, 0.374, 0.27, 0.16425, 0.047250000000000014, 0.00824999999999998, 0.10525000000000001, 0.17625000000000002, 0.07700000000000001, 0.07350000000000001, 0.02074999999999999, 0.28525, 0.04425000000000001, 0.015249999999999986, 0.014749999999999985, 0.060250000000000026, 0.008500000000000008, 0.058499999999999996, 0.024749999999999994, 0.07100000000000001, 0.10299999999999998, 0.199, 0.128, 0.008000000000000007, 0.40225, 0.020500000000000018, 0.03425, 0.20750000000000002, 0.11775000000000002, 0.179, 0.009000000000000008, 0.08374999999999999, 0.0615, 0.027249999999999996, 0.04949999999999999, 0.08224999999999999, 0.06624999999999998, 0.04175000000000001, 0.065, 0.15075, 0.05375000000000002, 0.03175, 0.75, 0.175, 0.043999999999999984, 0.1385, 0.2345, 0.14400000000000002, 0.04025000000000001, 0.015749999999999986, 0.03375, 0.025749999999999995, 0.17099999999999999, 0.07374999999999998, 0.11325000000000002, 0.516, 0.056499999999999995, 0.346, 0.03925000000000001, 0.059, 0.026500000000000024, 0.10775000000000001, 0.015000000000000013, 0.012749999999999984, 0.029249999999999998, 0.049250000000000016, 0.019000000000000017, 0.13724999999999998, 0.09949999999999998, 0.010749999999999982, 0.27175000000000005, 0.016249999999999987, 0.241, 0.015749999999999986, 0.007749999999999979, 0.017749999999999988, 0.09749999999999998, 0.28125, 0.21550000000000002, 0.12824999999999998, 0.025749999999999995, 0.055999999999999994, 0.02400000000000002, 0.185, 0.04349999999999998, 0.01874999999999999, 0.03799999999999998, 0.022749999999999992, 0.29374999999999996, 0.058250000000000024, 0.38575000000000004, 0.047250000000000014, 0.017000000000000015, 0.67275, 0.14875, 0.014000000000000012, 0.013249999999999984, 0.010000000000000009, 0.16999999999999998, 0.03899999999999998, 0.05275000000000002, 0.035499999999999976, 0.035999999999999976, 0.012500000000000011, 0.013749999999999984, 0.01924999999999999, 0.04899999999999999, 0.16725, 0.42674999999999996, 0.12924999999999998, 0.03799999999999998, 0.009749999999999981, 0.03375, 0.10599999999999998, 0.01100000000000001, 0.035499999999999976, 0.09699999999999998, 0.03999999999999998, 0.07900000000000001, 0.025249999999999995, 0.046999999999999986, 0.007749999999999979, 0.010749999999999982, 0.059250000000000025, 0.5885, 0.09799999999999998, 0.01974999999999999, 0.006500000000000006, 0.4545, 0.3365, 0.04125000000000001, 0.02350000000000002, 0.017000000000000015, 0.004249999999999976, 0.064, 0.05099999999999999, 0.23775000000000002, 0.09899999999999998, 0.08775, 0.22549999999999998, 0.04249999999999998, 0.07924999999999999, 0.05025000000000002, 0.05225000000000002, 0.05199999999999999, 0.034499999999999975, 0.045499999999999985, 0.10899999999999999, 0.09125, 0.266, 0.02124999999999999, 0.033499999999999974, 0.11649999999999999, 0.056499999999999995, 0.09949999999999998, 0.23525000000000001, 0.21525, 0.069, 0.056499999999999995, 0.0022499999999999742, 0.058250000000000024, 0.07874999999999999, 0.012749999999999984, 0.015500000000000014, 0.035499999999999976, 0.16199999999999998, 0.006000000000000005, 0.9544999999999999, 0.27925, 0.15775, 0.5685, 0.61475, 0.249, 0.22875, 0.41600000000000004, 0.02100000000000002, 0.005249999999999977, 0.07600000000000001, 0.044999999999999984, 0.014249999999999985, 0.07174999999999998, 0.124, 0.09525, 0.11549999999999999, 0.02350000000000002, 0.022749999999999992, 0.0695, 0.015749999999999986, 0.05149999999999999, 0.0625, 0.2375, 0.08900000000000002, 0.59275, 0.014000000000000012, 0.16899999999999998, 0.01824999999999999, 0.013500000000000012, 0.39225, 0.024500000000000022, 0.020000000000000018, 0.014500000000000013, 0.059250000000000025, 0.04249999999999998, 0.04175000000000001, 0.44625000000000004, 0.02124999999999999, 0.06, 0.10925000000000001, 0.3355, 0.03199999999999997, 0.5165, 0.21949999999999997, 0.017500000000000016, 0.01974999999999999, 0.15100000000000002, 0.07524999999999998, 0.015749999999999986, 0.008000000000000007, 0.03999999999999998, 0.5935, 0.21000000000000002, 0.21550000000000002, 0.07150000000000001, 0.121, 0.014000000000000012, 0.08424999999999999, 0.006500000000000006, 0.27975000000000005, 0.21575, 0.31174999999999997, 0.21850000000000003, 0.13224999999999998, 0.028000000000000025, 0.057499999999999996, 0.025000000000000022, 0.012749999999999984, 0.008000000000000007, 0.0037499999999999756, 0.03425, 0.056499999999999995, 0.05325000000000002, 0.177, 0.17875000000000002, 0.03949999999999998, 0.044999999999999984, 0.062, 0.08474999999999999, 0.259, 0.18175000000000002, 0.2385, 0.15000000000000002, 0.014249999999999985, 0.04299999999999998, 0.03799999999999998, 0.025000000000000022, 0.068, 0.011749999999999983, 0.03275, 0.26675000000000004, 0.016500000000000015, 0.063, 0.1965, 0.06924999999999998, 0.01874999999999999, 0.019500000000000017, 0.121, 0.07500000000000001, 0.023749999999999993, 0.020500000000000018, 0.030000000000000027, 0.07924999999999999, 0.07350000000000001, 0.04299999999999998, 0.174, 0.037250000000000005, 0.05125000000000002, 0.04199999999999998, 0.02024999999999999, 0.013000000000000012, 0.03699999999999998, 0.183, 0.06974999999999998, 0.017000000000000015, 0.012249999999999983, 0.08024999999999999, 0.016749999999999987], collect_list(tagId)=[1, 2, 3, 4, 5, 6, 7, 8, 9, 10, 11, 12, 13, 14, 15, 16, 17, 18, 19, 20, 21, 22, 23, 24, 25, 26, 27, 28, 29, 30, 31, 32, 33, 34, 35, 36, 37, 38, 39, 40, 41, 42, 43, 44, 45, 46, 47, 48, 49, 50, 51, 52, 53, 54, 55, 56, 57, 58, 59, 60, 61, 62, 63, 64, 65, 66, 67, 68, 69, 70, 71, 72, 73, 74, 75, 76, 77, 78, 79, 80, 81, 82, 83, 84, 85, 86, 87, 88, 89, 90, 91, 92, 93, 94, 95, 96, 97, 98, 99, 100, 101, 102, 103, 104, 105, 106, 107, 108, 109, 110, 111, 112, 113, 114, 115, 116, 117, 118, 119, 120, 121, 122, 123, 124, 125, 126, 127, 128, 129, 130, 131, 132, 133, 134, 135, 136, 137, 138, 139, 140, 141, 142, 143, 144, 145, 146, 147, 148, 149, 150, 151, 152, 153, 154, 155, 156, 157, 158, 159, 160, 161, 162, 163, 164, 165, 166, 167, 168, 169, 170, 171, 172, 173, 174, 175, 176, 177, 178, 179, 180, 181, 182, 183, 184, 185, 186, 187, 188, 189, 190, 191, 192, 193, 194, 195, 196, 197, 198, 199, 200, 201, 202, 203, 204, 205, 206, 207, 208, 209, 210, 211, 212, 213, 214, 215, 216, 217, 218, 219, 220, 221, 222, 223, 224, 225, 226, 227, 228, 229, 230, 231, 232, 233, 234, 235, 236, 237, 238, 239, 240, 241, 242, 243, 244, 245, 246, 247, 248, 249, 250, 251, 252, 253, 254, 255, 256, 257, 258, 259, 260, 261, 262, 263, 264, 265, 266, 267, 268, 269, 270, 271, 272, 273, 274, 275, 276, 277, 278, 279, 280, 281, 282, 283, 284, 285, 286, 287, 288, 289, 290, 291, 292, 293, 294, 295, 296, 297, 298, 299, 300, 301, 302, 303, 304, 305, 306, 307, 308, 309, 310, 311, 312, 313, 314, 315, 316, 317, 318, 319, 320, 321, 322, 323, 324, 325, 326, 327, 328, 329, 330, 331, 332, 333, 334, 335, 336, 337, 338, 339, 340, 341, 342, 343, 344, 345, 346, 347, 348, 349, 350, 351, 352, 353, 354, 355, 356, 357, 358, 359, 360, 361, 362, 363, 364, 365, 366, 367, 368, 369, 370, 371, 372, 373, 374, 375, 376, 377, 378, 379, 380, 381, 382, 383, 384, 385, 386, 387, 388, 389, 390, 391, 392, 393, 394, 395, 396, 397, 398, 399, 400, 401, 402, 403, 404, 405, 406, 407, 408, 409, 410, 411, 412, 413, 414, 415, 416, 417, 418, 419, 420, 421, 422, 423, 424, 425, 426, 427, 428, 429, 430, 431, 432, 433, 434, 435, 436, 437, 438, 439, 440, 441, 442, 443, 444, 445, 446, 447, 448, 449, 450, 451, 452, 453, 454, 455, 456, 457, 458, 459, 460, 461, 462, 463, 464, 465, 466, 467, 468, 469, 470, 471, 472, 473, 474, 475, 476, 477, 478, 479, 480, 481, 482, 483, 484, 485, 486, 487, 488, 489, 490, 491, 492, 493, 494, 495, 496, 497, 498, 499, 500, 501, 502, 503, 504, 505, 506, 507, 508, 509, 510, 511, 512, 513, 514, 515, 516, 517, 518, 519, 520, 521, 522, 523, 524, 525, 526, 527, 528, 529, 530, 531, 532, 533, 534, 535, 536, 537, 538, 539, 540, 541, 542, 543, 544, 545, 546, 547, 548, 549, 550, 551, 552, 553, 554, 555, 556, 557, 558, 559, 560, 561, 562, 563, 564, 565, 566, 567, 568, 569, 570, 571, 572, 573, 574, 575, 576, 577, 578, 579, 580, 581, 582, 583, 584, 585, 586, 587, 588, 589, 590, 591, 592, 593, 594, 595, 596, 597, 598, 599, 600, 601, 602, 603, 604, 605, 606, 607, 608, 609, 610, 611, 612, 613, 614, 615, 616, 617, 618, 619, 620, 621, 622, 623, 624, 625, 626, 627, 628, 629, 630, 631, 632, 633, 634, 635, 636, 637, 638, 639, 640, 641, 642, 643, 644, 645, 646, 647, 648, 649, 650, 651, 652, 653, 654, 655, 656, 657, 658, 659, 660, 661, 662, 663, 664, 665, 666, 667, 668, 669, 670, 671, 672, 673, 674, 675, 676, 677, 678, 679, 680, 681, 682, 683, 684, 685, 686, 687, 688, 689, 690, 691, 692, 693, 694, 695, 696, 697, 698, 699, 700, 701, 702, 703, 704, 705, 706, 707, 708, 709, 710, 711, 712, 713, 714, 715, 716, 717, 718, 719, 720, 721, 722, 723, 724, 725, 726, 727, 728, 729, 730, 731, 732, 733, 734, 735, 736, 737, 738, 739, 740, 741, 742, 743, 744, 745, 746, 747, 748, 749, 750, 751, 752, 753, 754, 755, 756, 757, 758, 759, 760, 761, 762, 763, 764, 765, 766, 767, 768, 769, 770, 771, 772, 773, 774, 775, 776, 777, 778, 779, 780, 781, 782, 783, 784, 785, 786, 787, 788, 789, 790, 791, 792, 793, 794, 795, 796, 797, 798, 799, 800, 801, 802, 803, 804, 805, 806, 807, 808, 809, 810, 811, 812, 813, 814, 815, 816, 817, 818, 819, 820, 821, 822, 823, 824, 825, 826, 827, 828, 829, 830, 831, 832, 833, 834, 835, 836, 837, 838, 839, 840, 841, 842, 843, 844, 845, 846, 847, 848, 849, 850, 851, 852, 853, 854, 855, 856, 857, 858, 859, 860, 861, 862, 863, 864, 865, 866, 867, 868, 869, 870, 871, 872, 873, 874, 875, 876, 877, 878, 879, 880, 881, 882, 883, 884, 885, 886, 887, 888, 889, 890, 891, 892, 893, 894, 895, 896, 897, 898, 899, 900, 901, 902, 903, 904, 905, 906, 907, 908, 909, 910, 911, 912, 913, 914, 915, 916, 917, 918, 919, 920, 921, 922, 923, 924, 925, 926, 927, 928, 929, 930, 931, 932, 933, 934, 935, 936, 937, 938, 939, 940, 941, 942, 943, 944, 945, 946, 947, 948, 949, 950, 951, 952, 953, 954, 955, 956, 957, 958, 959, 960, 961, 962, 963, 964, 965, 966, 967, 968, 969, 970, 971, 972, 973, 974, 975, 976, 977, 978, 979, 980, 981, 982, 983, 984, 985, 986, 987, 988, 989, 990, 991, 992, 993, 994, 995, 996, 997, 998, 999, 1000, 1001, 1002, 1003, 1004, 1005, 1006, 1007, 1008, 1009, 1010, 1011, 1012, 1013, 1014, 1015, 1016, 1017, 1018, 1019, 1020, 1021, 1022, 1023, 1024, 1025, 1026, 1027, 1028, 1029, 1030, 1031, 1032, 1033, 1034, 1035, 1036, 1037, 1038, 1039, 1040, 1041, 1042, 1043, 1044, 1045, 1046, 1047, 1048, 1049, 1050, 1051, 1052, 1053, 1054, 1055, 1056, 1057, 1058, 1059, 1060, 1061, 1062, 1063, 1064, 1065, 1066, 1067, 1068, 1069, 1070, 1071, 1072, 1073, 1074, 1075, 1076, 1077, 1078, 1079, 1080, 1081, 1082, 1083, 1084, 1085, 1086, 1087, 1088, 1089, 1090, 1091, 1092, 1093, 1094, 1095, 1096, 1097, 1098, 1099, 1100, 1101, 1102, 1103, 1104, 1105, 1106, 1107, 1108, 1109, 1110, 1111, 1112, 1113, 1114, 1115, 1116, 1117, 1118, 1119, 1120, 1121, 1122, 1123, 1124, 1125, 1126, 1127, 1128])"
      ]
     },
     "execution_count": 10,
     "metadata": {},
     "output_type": "execute_result"
    }
   ],
   "source": [
    "gen_groups_collect[0]"
   ]
  },
  {
   "cell_type": "markdown",
   "metadata": {},
   "source": [
    "So we just need to run through all tags and movies IDs and match the corresponding relevance score."
   ]
  },
  {
   "cell_type": "code",
   "execution_count": 11,
   "metadata": {
    "collapsed": true
   },
   "outputs": [],
   "source": [
    "id_list=[]\n",
    "for index, data in enumerate(gen_groups_collect):\n",
    "    Id = data[0]\n",
    "    score = data[1]\n",
    "    tags = data[2]\n",
    "    \n",
    "    id_list.append(Id)\n",
    "    \n",
    "    for rel, tag in zip(score, tags):\n",
    "        MN_matrix[tag-1, index] = rel\n",
    "   "
   ]
  },
  {
   "cell_type": "code",
   "execution_count": 12,
   "metadata": {},
   "outputs": [
    {
     "data": {
      "text/plain": [
       "array([[ 0.041  ,  0.04425,  0.027  , ...,  0.01825,  0.0385 ,  0.068  ],\n",
       "       [ 0.05125,  0.04825,  0.02725, ...,  0.024  ,  0.03875,  0.08525],\n",
       "       [ 0.0205 ,  0.01925,  0.01975, ...,  0.076  ,  0.024  ,  0.0215 ],\n",
       "       ..., \n",
       "       [ 0.01225,  0.0115 ,  0.01125, ...,  0.01125,  0.0175 ,  0.009  ],\n",
       "       [ 0.08025,  0.07825,  0.07225, ...,  0.076  ,  0.16825,  0.96475],\n",
       "       [ 0.01675,  0.01425,  0.01825, ...,  0.01825,  0.0275 ,  0.93775]])"
      ]
     },
     "execution_count": 12,
     "metadata": {},
     "output_type": "execute_result"
    }
   ],
   "source": [
    "MN_matrix"
   ]
  },
  {
   "cell_type": "markdown",
   "metadata": {},
   "source": [
    "We can eventually convert this matrix into a panda dataframe."
   ]
  },
  {
   "cell_type": "code",
   "execution_count": 13,
   "metadata": {
    "collapsed": true
   },
   "outputs": [],
   "source": [
    "df=pd.DataFrame(MN_matrix)"
   ]
  },
  {
   "cell_type": "code",
   "execution_count": 14,
   "metadata": {
    "collapsed": true
   },
   "outputs": [],
   "source": [
    "df.index.name='Movies ID'\n",
    "df=df.rename_axis(\"Tags\", axis=\"columns\")"
   ]
  },
  {
   "cell_type": "code",
   "execution_count": 15,
   "metadata": {},
   "outputs": [
    {
     "data": {
      "text/plain": [
       "[RangeIndex(start=0, stop=1128, step=1, name='Movies ID'),\n",
       " RangeIndex(start=0, stop=10381, step=1, name='Tags')]"
      ]
     },
     "execution_count": 15,
     "metadata": {},
     "output_type": "execute_result"
    }
   ],
   "source": [
    "df.axes"
   ]
  },
  {
   "cell_type": "code",
   "execution_count": 16,
   "metadata": {
    "scrolled": true
   },
   "outputs": [
    {
     "data": {
      "text/html": [
       "<div>\n",
       "<style>\n",
       "    .dataframe thead tr:only-child th {\n",
       "        text-align: right;\n",
       "    }\n",
       "\n",
       "    .dataframe thead th {\n",
       "        text-align: left;\n",
       "    }\n",
       "\n",
       "    .dataframe tbody tr th {\n",
       "        vertical-align: top;\n",
       "    }\n",
       "</style>\n",
       "<table border=\"1\" class=\"dataframe\">\n",
       "  <thead>\n",
       "    <tr style=\"text-align: right;\">\n",
       "      <th>Tags</th>\n",
       "      <th>0</th>\n",
       "      <th>1</th>\n",
       "      <th>2</th>\n",
       "      <th>3</th>\n",
       "      <th>4</th>\n",
       "      <th>5</th>\n",
       "      <th>6</th>\n",
       "      <th>7</th>\n",
       "      <th>8</th>\n",
       "      <th>9</th>\n",
       "      <th>...</th>\n",
       "      <th>10371</th>\n",
       "      <th>10372</th>\n",
       "      <th>10373</th>\n",
       "      <th>10374</th>\n",
       "      <th>10375</th>\n",
       "      <th>10376</th>\n",
       "      <th>10377</th>\n",
       "      <th>10378</th>\n",
       "      <th>10379</th>\n",
       "      <th>10380</th>\n",
       "    </tr>\n",
       "    <tr>\n",
       "      <th>Movies ID</th>\n",
       "      <th></th>\n",
       "      <th></th>\n",
       "      <th></th>\n",
       "      <th></th>\n",
       "      <th></th>\n",
       "      <th></th>\n",
       "      <th></th>\n",
       "      <th></th>\n",
       "      <th></th>\n",
       "      <th></th>\n",
       "      <th></th>\n",
       "      <th></th>\n",
       "      <th></th>\n",
       "      <th></th>\n",
       "      <th></th>\n",
       "      <th></th>\n",
       "      <th></th>\n",
       "      <th></th>\n",
       "      <th></th>\n",
       "      <th></th>\n",
       "      <th></th>\n",
       "    </tr>\n",
       "  </thead>\n",
       "  <tbody>\n",
       "    <tr>\n",
       "      <th>0</th>\n",
       "      <td>0.04100</td>\n",
       "      <td>0.04425</td>\n",
       "      <td>0.02700</td>\n",
       "      <td>0.03725</td>\n",
       "      <td>0.02625</td>\n",
       "      <td>0.03600</td>\n",
       "      <td>0.03850</td>\n",
       "      <td>0.05500</td>\n",
       "      <td>0.05825</td>\n",
       "      <td>0.06575</td>\n",
       "      <td>...</td>\n",
       "      <td>0.14525</td>\n",
       "      <td>0.03075</td>\n",
       "      <td>0.02700</td>\n",
       "      <td>0.07900</td>\n",
       "      <td>0.03000</td>\n",
       "      <td>0.0240</td>\n",
       "      <td>0.3985</td>\n",
       "      <td>0.01825</td>\n",
       "      <td>0.03850</td>\n",
       "      <td>0.06800</td>\n",
       "    </tr>\n",
       "    <tr>\n",
       "      <th>1</th>\n",
       "      <td>0.05125</td>\n",
       "      <td>0.04825</td>\n",
       "      <td>0.02725</td>\n",
       "      <td>0.04350</td>\n",
       "      <td>0.03200</td>\n",
       "      <td>0.04050</td>\n",
       "      <td>0.04250</td>\n",
       "      <td>0.06350</td>\n",
       "      <td>0.05975</td>\n",
       "      <td>0.06325</td>\n",
       "      <td>...</td>\n",
       "      <td>0.05950</td>\n",
       "      <td>0.02850</td>\n",
       "      <td>0.02775</td>\n",
       "      <td>0.04225</td>\n",
       "      <td>0.02975</td>\n",
       "      <td>0.0225</td>\n",
       "      <td>0.9140</td>\n",
       "      <td>0.02400</td>\n",
       "      <td>0.03875</td>\n",
       "      <td>0.08525</td>\n",
       "    </tr>\n",
       "    <tr>\n",
       "      <th>2</th>\n",
       "      <td>0.02050</td>\n",
       "      <td>0.01925</td>\n",
       "      <td>0.01975</td>\n",
       "      <td>0.02850</td>\n",
       "      <td>0.03075</td>\n",
       "      <td>0.13025</td>\n",
       "      <td>0.21425</td>\n",
       "      <td>0.03200</td>\n",
       "      <td>0.03150</td>\n",
       "      <td>0.02500</td>\n",
       "      <td>...</td>\n",
       "      <td>0.01625</td>\n",
       "      <td>0.02100</td>\n",
       "      <td>0.02100</td>\n",
       "      <td>0.02100</td>\n",
       "      <td>0.03000</td>\n",
       "      <td>0.0315</td>\n",
       "      <td>0.0295</td>\n",
       "      <td>0.07600</td>\n",
       "      <td>0.02400</td>\n",
       "      <td>0.02150</td>\n",
       "    </tr>\n",
       "    <tr>\n",
       "      <th>3</th>\n",
       "      <td>0.03300</td>\n",
       "      <td>0.06725</td>\n",
       "      <td>0.10300</td>\n",
       "      <td>0.03000</td>\n",
       "      <td>0.04250</td>\n",
       "      <td>0.09000</td>\n",
       "      <td>0.20075</td>\n",
       "      <td>0.05875</td>\n",
       "      <td>0.06075</td>\n",
       "      <td>0.02925</td>\n",
       "      <td>...</td>\n",
       "      <td>0.01750</td>\n",
       "      <td>0.03700</td>\n",
       "      <td>0.02775</td>\n",
       "      <td>0.03775</td>\n",
       "      <td>0.04900</td>\n",
       "      <td>0.0565</td>\n",
       "      <td>0.0475</td>\n",
       "      <td>0.06900</td>\n",
       "      <td>0.03300</td>\n",
       "      <td>0.04400</td>\n",
       "    </tr>\n",
       "    <tr>\n",
       "      <th>4</th>\n",
       "      <td>0.09225</td>\n",
       "      <td>0.10200</td>\n",
       "      <td>0.18875</td>\n",
       "      <td>0.04200</td>\n",
       "      <td>0.11875</td>\n",
       "      <td>0.13825</td>\n",
       "      <td>0.19925</td>\n",
       "      <td>0.08075</td>\n",
       "      <td>0.09200</td>\n",
       "      <td>0.05425</td>\n",
       "      <td>...</td>\n",
       "      <td>0.02850</td>\n",
       "      <td>0.05275</td>\n",
       "      <td>0.06150</td>\n",
       "      <td>0.06125</td>\n",
       "      <td>0.07525</td>\n",
       "      <td>0.1100</td>\n",
       "      <td>0.0660</td>\n",
       "      <td>0.11150</td>\n",
       "      <td>0.10450</td>\n",
       "      <td>0.06200</td>\n",
       "    </tr>\n",
       "  </tbody>\n",
       "</table>\n",
       "<p>5 rows × 10381 columns</p>\n",
       "</div>"
      ],
      "text/plain": [
       "Tags         0        1        2        3        4        5        6      \\\n",
       "Movies ID                                                                  \n",
       "0          0.04100  0.04425  0.02700  0.03725  0.02625  0.03600  0.03850   \n",
       "1          0.05125  0.04825  0.02725  0.04350  0.03200  0.04050  0.04250   \n",
       "2          0.02050  0.01925  0.01975  0.02850  0.03075  0.13025  0.21425   \n",
       "3          0.03300  0.06725  0.10300  0.03000  0.04250  0.09000  0.20075   \n",
       "4          0.09225  0.10200  0.18875  0.04200  0.11875  0.13825  0.19925   \n",
       "\n",
       "Tags         7        8        9       ...       10371    10372    10373  \\\n",
       "Movies ID                              ...                                 \n",
       "0          0.05500  0.05825  0.06575   ...     0.14525  0.03075  0.02700   \n",
       "1          0.06350  0.05975  0.06325   ...     0.05950  0.02850  0.02775   \n",
       "2          0.03200  0.03150  0.02500   ...     0.01625  0.02100  0.02100   \n",
       "3          0.05875  0.06075  0.02925   ...     0.01750  0.03700  0.02775   \n",
       "4          0.08075  0.09200  0.05425   ...     0.02850  0.05275  0.06150   \n",
       "\n",
       "Tags         10374    10375   10376   10377    10378    10379    10380  \n",
       "Movies ID                                                               \n",
       "0          0.07900  0.03000  0.0240  0.3985  0.01825  0.03850  0.06800  \n",
       "1          0.04225  0.02975  0.0225  0.9140  0.02400  0.03875  0.08525  \n",
       "2          0.02100  0.03000  0.0315  0.0295  0.07600  0.02400  0.02150  \n",
       "3          0.03775  0.04900  0.0565  0.0475  0.06900  0.03300  0.04400  \n",
       "4          0.06125  0.07525  0.1100  0.0660  0.11150  0.10450  0.06200  \n",
       "\n",
       "[5 rows x 10381 columns]"
      ]
     },
     "execution_count": 16,
     "metadata": {},
     "output_type": "execute_result"
    }
   ],
   "source": [
    "df.head()"
   ]
  },
  {
   "cell_type": "code",
   "execution_count": 17,
   "metadata": {},
   "outputs": [
    {
     "data": {
      "image/png": "[encoded data removed]",
      "text/plain": [
       "<matplotlib.figure.Figure at 0x7f93f4572630>"
      ]
     },
     "metadata": {},
     "output_type": "display_data"
    }
   ],
   "source": [
    "plt.figure(figsize=(12,10))\n",
    "plt.boxplot(df.values.flatten(),0, '')\n",
    "plt.title('Boxplot of scores (relevance)')\n",
    "plt.show()"
   ]
  },
  {
   "cell_type": "markdown",
   "metadata": {},
   "source": [
    "We notice that the median is around 5% relevance."
   ]
  },
  {
   "cell_type": "code",
   "execution_count": 18,
   "metadata": {
    "collapsed": true
   },
   "outputs": [],
   "source": [
    "variance_tag=df.var(axis=0)"
   ]
  },
  {
   "cell_type": "code",
   "execution_count": 19,
   "metadata": {},
   "outputs": [
    {
     "data": {
      "image/png": "[encoded data removed]",
      "text/plain": [
       "<matplotlib.figure.Figure at 0x7f93f4572080>"
      ]
     },
     "metadata": {},
     "output_type": "display_data"
    }
   ],
   "source": [
    "plt.figure(figsize=(12,10))\n",
    "plt.scatter(variance_tag, range(1, len(variance_tag)+1))\n",
    "plt.title(\"Variance of the movie tags/dimensions\")\n",
    "plt.ylabel('Tag/dimension')\n",
    "plt.xlabel('Variance')\n",
    "plt.show()"
   ]
  },
  {
   "cell_type": "markdown",
   "metadata": {},
   "source": [
    "We notice that variance is quite small for all dimensions which could suggets that movies with same tags have close scores."
   ]
  },
  {
   "cell_type": "code",
   "execution_count": 20,
   "metadata": {},
   "outputs": [
    {
     "data": {
      "text/plain": [
       "array([[ 0.00490042,  0.00327346, -0.00030115, ...,  0.00016838,\n",
       "        -0.00016172, -0.00014599],\n",
       "       [ 0.00327346,  0.00374098, -0.00023234, ...,  0.00011866,\n",
       "        -0.00015645, -0.00014514],\n",
       "       [-0.00030115, -0.00023234,  0.01184989, ...,  0.00130349,\n",
       "        -0.00112118, -0.00035662],\n",
       "       ..., \n",
       "       [ 0.00016838,  0.00011866,  0.00130349, ...,  0.0188282 ,\n",
       "        -0.00114338, -0.00032847],\n",
       "       [-0.00016172, -0.00015645, -0.00112118, ..., -0.00114338,\n",
       "         0.01105378,  0.00659333],\n",
       "       [-0.00014599, -0.00014514, -0.00035662, ..., -0.00032847,\n",
       "         0.00659333,  0.00658031]])"
      ]
     },
     "execution_count": 20,
     "metadata": {},
     "output_type": "execute_result"
    }
   ],
   "source": [
    "# covariance matrix of M\n",
    "MN_matrix_centered = MN_matrix - np.array([np.mean(MN_matrix, axis=1)]).T\n",
    "M_cov = np.cov(MN_matrix_centered)\n",
    "M_cov"
   ]
  },
  {
   "cell_type": "code",
   "execution_count": 21,
   "metadata": {
    "collapsed": true
   },
   "outputs": [],
   "source": [
    "eigvalues, eigvectors = np.linalg.eigh(M_cov)"
   ]
  },
  {
   "cell_type": "code",
   "execution_count": 22,
   "metadata": {},
   "outputs": [
    {
     "data": {
      "image/png": "[encoded data removed]",
      "text/plain": [
       "<matplotlib.figure.Figure at 0x7f93f45729e8>"
      ]
     },
     "metadata": {},
     "output_type": "display_data"
    }
   ],
   "source": [
    "\n",
    "eigvalues_list = eigvalues.tolist()\n",
    "\n",
    "eigvalues_list.reverse()# to ger in descending order\n",
    "\n",
    "plt.loglog(eigvalues_list)\n",
    "plt.title(\"Eigenvalues of the covariance matrix\")\n",
    "plt.ylabel('Eigenvalue')\n",
    "plt.xlabel('Count')\n",
    "plt.show()"
   ]
  },
  {
   "cell_type": "markdown",
   "metadata": {},
   "source": [
    "Eigenvalues are mostly small"
   ]
  },
  {
   "cell_type": "code",
   "execution_count": 23,
   "metadata": {},
   "outputs": [
    {
     "data": {
      "text/plain": [
       "36"
      ]
     },
     "execution_count": 23,
     "metadata": {},
     "output_type": "execute_result"
    }
   ],
   "source": [
    "cum = (np.cumsum(eigvalues_list) / np.sum(eigvalues))\n",
    "\n",
    "princ_compo = [ n for n,i in enumerate(cum) if i>((2./3) ) ][0]\n",
    "princ_compo"
   ]
  },
  {
   "cell_type": "code",
   "execution_count": 24,
   "metadata": {},
   "outputs": [
    {
     "data": {
      "image/png": "[encoded data removed]",
      "text/plain": [
       "<matplotlib.figure.Figure at 0x7f93d952de80>"
      ]
     },
     "metadata": {},
     "output_type": "display_data"
    }
   ],
   "source": [
    "plt.semilogx(cum)\n",
    "plt.title(\"Cumulative eigenvalues\")\n",
    "plt.ylabel('Eigenvalues')\n",
    "plt.xlabel('Cumulative')\n",
    "plt.axvline(princ_compo, linestyle='dashed')\n",
    "plt.show()"
   ]
  },
  {
   "cell_type": "code",
   "execution_count": 25,
   "metadata": {},
   "outputs": [
    {
     "data": {
      "text/plain": [
       "[2.7533774797813497,\n",
       " 1.2214710425886668,\n",
       " 0.9960515193084873,\n",
       " 0.662175500207405,\n",
       " 0.5857297851139419]"
      ]
     },
     "execution_count": 25,
     "metadata": {},
     "output_type": "execute_result"
    }
   ],
   "source": [
    "eigen_five = eigvalues_list[:5]\n",
    "eigen_five#five largest eigenvalues"
   ]
  },
  {
   "cell_type": "code",
   "execution_count": 26,
   "metadata": {},
   "outputs": [
    {
     "name": "stdout",
     "output_type": "stream",
     "text": [
      "\n",
      " Eigenvector N°1\n",
      "\n",
      "Highest 10 vs. lowest 10\n",
      "     talking animals      powerful ending\n",
      "              soccer               snakes\n",
      "     crime gone awry           bad ending\n",
      "         imagination               silent\n",
      "               great                silly\n",
      "             dragons            hong kong\n",
      "oscar (best cinematography)               france\n",
      "      blaxploitation             kurosawa\n",
      "               drama             biblical\n",
      "                 cia            colourful\n",
      "\n",
      " Eigenvector N°2\n",
      "\n",
      "Highest 10 vs. lowest 10\n",
      " interracial romance               absurd\n",
      "          reflective              special\n",
      "     crime gone awry             biblical\n",
      "          meditative      character study\n",
      "           lone hero              fashion\n",
      "                 god             survival\n",
      "            medieval          good acting\n",
      "                 art      pixar animation\n",
      "         melancholic                   pg\n",
      "          sex comedy               action\n",
      "\n",
      " Eigenvector N°3\n",
      "\n",
      "Highest 10 vs. lowest 10\n",
      "     feel good movie             horrible\n",
      "      self discovery                 weed\n",
      "                love           creativity\n",
      "       heartbreaking                spies\n",
      "             torture            stupidity\n",
      "             romance                 cult\n",
      "             swedish             distopia\n",
      "       costume drama          vigilantism\n",
      "             gilliam         cult classic\n",
      "                 fbi              dancing\n",
      "\n",
      " Eigenvector N°4\n",
      "\n",
      "Highest 10 vs. lowest 10\n",
      "            visceral    corporate america\n",
      "  visually appealing               creepy\n",
      "    imaginary friend              muppets\n",
      "              sci fi    police corruption\n",
      "     science fiction    thought-provoking\n",
      "              visual             survival\n",
      "             science          vigilantism\n",
      "              school               police\n",
      "             special             gangster\n",
      "   beautiful scenery   man versus machine\n",
      "\n",
      " Eigenvector N°5\n",
      "\n",
      "Highest 10 vs. lowest 10\n",
      "   thought-provoking            colourful\n",
      "           confusing      funniest movies\n",
      "      secret service      highly quotable\n",
      "            suspense     good versus evil\n",
      "          television                humor\n",
      "             mutants             humanity\n",
      "            survival            vengeance\n",
      "            intimate                 cult\n",
      "              murder               quirky\n",
      "      best war films                funny\n"
     ]
    }
   ],
   "source": [
    "for i in range(5):  \n",
    "    return_index = np.argsort(eigvectors[:, -(i+1)])\n",
    "    print('\\n Eigenvector N°{}\\n'.format(i+1))\n",
    "    print('Highest 10 vs. lowest 10')\n",
    "    for highest, lowest in zip(return_index[-10:][::-1], return_index[:10]):\n",
    "        print(\"{: >20} {: >20}\".format(gentag[highest], gentag[lowest]))"
   ]
  },
  {
   "cell_type": "markdown",
   "metadata": {},
   "source": [
    "Let's project in our new feature space: We first define the eigenspace of the 5 highest eigenvalues and then project the matrix normalized onto this new reduced space."
   ]
  },
  {
   "cell_type": "code",
   "execution_count": 27,
   "metadata": {
    "collapsed": true
   },
   "outputs": [],
   "source": [
    "eigen_space = np.dot(eigvectors[:,-5:].T, MN_matrix_centered)#dot product = projection\n",
    "projection = np.dot(MN_matrix_centered, eigen_space.T)"
   ]
  },
  {
   "cell_type": "code",
   "execution_count": 28,
   "metadata": {
    "collapsed": true
   },
   "outputs": [],
   "source": [
    "tag_mapping = {}\n",
    "\n",
    "for key, value in tag_mapping.items():\n",
    "    tag_mapping[value] = projection[key-1,:]"
   ]
  },
  {
   "cell_type": "code",
   "execution_count": 29,
   "metadata": {
    "collapsed": true
   },
   "outputs": [],
   "source": [
    "with open('projection_on_5.pickle', 'wb') as handle:\n",
    "    pickle.dump(projection, handle, protocol=pickle.HIGHEST_PROTOCOL)"
   ]
  },
  {
   "cell_type": "code",
   "execution_count": 30,
   "metadata": {
    "collapsed": true
   },
   "outputs": [],
   "source": [
    "with open('tag_mapping.pickle', 'wb') as handle:\n",
    "    pickle.dump(tag_mapping, handle, protocol=pickle.HIGHEST_PROTOCOL)"
   ]
  },
  {
   "cell_type": "code",
   "execution_count": null,
   "metadata": {
    "collapsed": true
   },
   "outputs": [],
   "source": []
  },
  {
   "cell_type": "code",
   "execution_count": 31,
   "metadata": {
    "collapsed": true
   },
   "outputs": [],
   "source": [
    "with open('selected-movies.pickle', 'rb') as handle:\n",
    "    selected_movies = pickle.load(handle, encoding='utf-8') "
   ]
  },
  {
   "cell_type": "code",
   "execution_count": 32,
   "metadata": {},
   "outputs": [
    {
     "data": {
      "text/plain": [
       "((780, 'Independence Day (a.k.a. ID4) (1996)', 0.6),\n",
       " (5349, 'Spider-Man (2002)', 0.89),\n",
       " (2571, 'Matrix, The (1999)', 0.87),\n",
       " (318, 'Shawshank Redemption, The (1994)', 0.91),\n",
       " (2329, 'American History X (1998)', 0.83),\n",
       " (5147, 'Wild Strawberries (Smultronstället) (1957)', 0.95),\n",
       " (55444, 'Control (2007)', 0.87),\n",
       " (32296, 'Miss Congeniality 2: Armed and Fabulous (2005)', 0.15),\n",
       " (43930, 'Just My Luck (2006)', 0.13),\n",
       " (4658, 'Santa Sangre (1989)', 0.85),\n",
       " (6774, 'Videodrome (1983)', 0.78),\n",
       " (3967, 'Billy Elliot (2000)', 0.85),\n",
       " (114028, 'Pride (2014)', 0.92),\n",
       " (480, 'Jurassic Park (1993)', 0.93),\n",
       " (260, 'Star Wars: Episode IV - A New Hope (1977)', 0.93),\n",
       " (4700, 'Princess Diaries, The (2001)', 0.47),\n",
       " (527, \"Schindler's List (1993)\", 0.96),\n",
       " (2959, 'Fight Club (1999)', 0.79),\n",
       " (6132, 'New York Ripper, The (Squartatore di New York, Lo) (1982)', 0.17),\n",
       " (2858, 'American Beauty (1999)', 0.88),\n",
       " (6016, 'City of God (Cidade de Deus) (2002)', 0.9),\n",
       " (94018, 'Battleship (2012)', 0.34),\n",
       " (5687, 'Take Care of My Cat (Goyangileul butaghae) (2001)', 0.81),\n",
       " (1240, 'Terminator, The (1984)', 1.0),\n",
       " (111759, 'Edge of Tomorrow (2014)', 0.91),\n",
       " (356, 'Forrest Gump (1994)', 0.72),\n",
       " (81845, \"King's Speech, The (2010)\", 0.95),\n",
       " (2324, 'Life Is Beautiful (La Vita è bella) (1997)', 0.8),\n",
       " (5163, 'Stage Fright (Deliria) (1987)', 0.68),\n",
       " (7235, 'Ichi the Killer (Koroshiya 1) (2001)', 0.64),\n",
       " (1199, 'Brazil (1985)', 0.98),\n",
       " (48043, 'Fountain, The (2006)', 0.51),\n",
       " (4465, 'Accused, The (1988)', 0.95),\n",
       " (805, 'Time to Kill, A (1996)', 0.67),\n",
       " (74545, 'Ghost Writer, The (2010)', 0.83),\n",
       " (54503, 'Superbad (2007)', 0.88),\n",
       " (2706, 'American Pie (1999)', 0.6))"
      ]
     },
     "execution_count": 32,
     "metadata": {},
     "output_type": "execute_result"
    }
   ],
   "source": [
    "selected_movies\n",
    "#len(selected_movies)"
   ]
  },
  {
   "cell_type": "markdown",
   "metadata": {
    "collapsed": true
   },
   "source": [
    "We need to retrieve those 37 movies in our matrix :"
   ]
  },
  {
   "cell_type": "code",
   "execution_count": 33,
   "metadata": {},
   "outputs": [
    {
     "data": {
      "text/plain": [
       "(1128, 37)"
      ]
     },
     "execution_count": 33,
     "metadata": {},
     "output_type": "execute_result"
    }
   ],
   "source": [
    "items_idx=[]\n",
    "titles=[]\n",
    "score=[]\n",
    "for items in selected_movies:\n",
    "    items_idx.append(items[0])\n",
    "    titles.append(items[1])\n",
    "    score.append(items[2])\n",
    "    \n",
    "selec=[id_list.index(i) for i in items_idx]\n",
    "selected_MN_matrix= MN_matrix[:,selec] \n",
    "selected_MN_matrix.shape"
   ]
  },
  {
   "cell_type": "markdown",
   "metadata": {},
   "source": [
    "Now we project on two first PC :"
   ]
  },
  {
   "cell_type": "code",
   "execution_count": 34,
   "metadata": {},
   "outputs": [
    {
     "data": {
      "text/plain": [
       "(2, 37)"
      ]
     },
     "execution_count": 34,
     "metadata": {},
     "output_type": "execute_result"
    }
   ],
   "source": [
    "projected = eigvectors[:,-2:].T.dot(selected_MN_matrix)\n",
    "projected.shape"
   ]
  },
  {
   "cell_type": "code",
   "execution_count": 35,
   "metadata": {},
   "outputs": [
    {
     "data": {
      "text/plain": [
       "[-7.0046513222986491,\n",
       " -6.5683617061531621,\n",
       " -8.2887568693410039,\n",
       " -5.8469793586820673,\n",
       " -4.8791047963082281,\n",
       " -1.0961272811702374,\n",
       " -1.8150512541562513,\n",
       " -2.289430325011641,\n",
       " -1.8303448652081351,\n",
       " -1.8601570872829556,\n",
       " -1.8528059086619553,\n",
       " -2.2201140873897707,\n",
       " -1.8469216704740599,\n",
       " -7.2830296890243877,\n",
       " -7.5765829630719495,\n",
       " -2.3009949401115444,\n",
       " -4.7959914505868504,\n",
       " -5.6612924521251822,\n",
       " -2.9951092439009392,\n",
       " -3.1185938681355037,\n",
       " -4.3229104551686204,\n",
       " -4.9514078492758031,\n",
       " 0.21770525613205866,\n",
       " -7.4443494654948097,\n",
       " -7.0766292577588148,\n",
       " -5.0294625397007291,\n",
       " -3.7401245085837171,\n",
       " -3.5359042615520382,\n",
       " -2.8265967275157284,\n",
       " -2.5413593613637526,\n",
       " -3.2403711678747062,\n",
       " -2.8005467589011435,\n",
       " -3.4826050275184897,\n",
       " -3.808230047148002,\n",
       " -3.7229820948022012,\n",
       " -2.7906872889413754,\n",
       " -3.6432593003081397]"
      ]
     },
     "execution_count": 35,
     "metadata": {},
     "output_type": "execute_result"
    }
   ],
   "source": [
    "list(projected[0,:])"
   ]
  },
  {
   "cell_type": "code",
   "execution_count": null,
   "metadata": {},
   "outputs": [],
   "source": [
    "type(np.array(colors))"
   ]
  },
  {
   "cell_type": "code",
   "execution_count": 40,
   "metadata": {},
   "outputs": [
    {
     "data": {
      "text/html": [
       "\n",
       "    <div class=\"bk-root\">\n",
       "        <a href=\"https://bokeh.pydata.org\" target=\"_blank\" class=\"bk-logo bk-logo-small bk-logo-notebook\"></a>\n",
       "        <span id=\"3da09a85-848d-4fcb-bbf9-473a0760bc8e\">Loading BokehJS ...</span>\n",
       "    </div>"
      ]
     },
     "metadata": {},
     "output_type": "display_data"
    },
    {
     "data": {
      "application/javascript": [
       "\n",
       "(function(root) {\n",
       "  function now() {\n",
       "    return new Date();\n",
       "  }\n",
       "\n",
       "  var force = true;\n",
       "\n",
       "  if (typeof (root._bokeh_onload_callbacks) === \"undefined\" || force === true) {\n",
       "    root._bokeh_onload_callbacks = [];\n",
       "    root._bokeh_is_loading = undefined;\n",
       "  }\n",
       "\n",
       "  var JS_MIME_TYPE = 'application/javascript';\n",
       "  var HTML_MIME_TYPE = 'text/html';\n",
       "  var EXEC_MIME_TYPE = 'application/vnd.bokehjs_exec.v0+json';\n",
       "  var CLASS_NAME = 'output_bokeh rendered_html';\n",
       "\n",
       "  /**\n",
       "   * Render data to the DOM node\n",
       "   */\n",
       "  function render(props, node) {\n",
       "    var script = document.createElement(\"script\");\n",
       "    node.appendChild(script);\n",
       "  }\n",
       "\n",
       "  /**\n",
       "   * Handle when an output is cleared or removed\n",
       "   */\n",
       "  function handleClearOutput(event, handle) {\n",
       "    var cell = handle.cell;\n",
       "\n",
       "    var id = cell.output_area._bokeh_element_id;\n",
       "    var server_id = cell.output_area._bokeh_server_id;\n",
       "    // Clean up Bokeh references\n",
       "    if (id !== undefined) {\n",
       "      Bokeh.index[id].model.document.clear();\n",
       "      delete Bokeh.index[id];\n",
       "    }\n",
       "\n",
       "    if (server_id !== undefined) {\n",
       "      // Clean up Bokeh references\n",
       "      var cmd = \"from bokeh.io.state import curstate; print(curstate().uuid_to_server['\" + server_id + \"'].get_sessions()[0].document.roots[0]._id)\";\n",
       "      cell.notebook.kernel.execute(cmd, {\n",
       "        iopub: {\n",
       "          output: function(msg) {\n",
       "            var element_id = msg.content.text.trim();\n",
       "            Bokeh.index[element_id].model.document.clear();\n",
       "            delete Bokeh.index[element_id];\n",
       "          }\n",
       "        }\n",
       "      });\n",
       "      // Destroy server and session\n",
       "      var cmd = \"import bokeh.io.notebook as ion; ion.destroy_server('\" + server_id + \"')\";\n",
       "      cell.notebook.kernel.execute(cmd);\n",
       "    }\n",
       "  }\n",
       "\n",
       "  /**\n",
       "   * Handle when a new output is added\n",
       "   */\n",
       "  function handleAddOutput(event, handle) {\n",
       "    var output_area = handle.output_area;\n",
       "    var output = handle.output;\n",
       "\n",
       "    // limit handleAddOutput to display_data with EXEC_MIME_TYPE content only\n",
       "    if ((output.output_type != \"display_data\") || (!output.data.hasOwnProperty(EXEC_MIME_TYPE))) {\n",
       "      return\n",
       "    }\n",
       "\n",
       "    var toinsert = output_area.element.find(`.${CLASS_NAME.split(' ')[0]}`);\n",
       "\n",
       "    if (output.metadata[EXEC_MIME_TYPE][\"id\"] !== undefined) {\n",
       "      toinsert[0].firstChild.textContent = output.data[JS_MIME_TYPE];\n",
       "      // store reference to embed id on output_area\n",
       "      output_area._bokeh_element_id = output.metadata[EXEC_MIME_TYPE][\"id\"];\n",
       "    }\n",
       "    if (output.metadata[EXEC_MIME_TYPE][\"server_id\"] !== undefined) {\n",
       "      var bk_div = document.createElement(\"div\");\n",
       "      bk_div.innerHTML = output.data[HTML_MIME_TYPE];\n",
       "      var script_attrs = bk_div.children[0].attributes;\n",
       "      for (var i = 0; i < script_attrs.length; i++) {\n",
       "        toinsert[0].firstChild.setAttribute(script_attrs[i].name, script_attrs[i].value);\n",
       "      }\n",
       "      // store reference to server id on output_area\n",
       "      output_area._bokeh_server_id = output.metadata[EXEC_MIME_TYPE][\"server_id\"];\n",
       "    }\n",
       "  }\n",
       "\n",
       "  function register_renderer(events, OutputArea) {\n",
       "\n",
       "    function append_mime(data, metadata, element) {\n",
       "      // create a DOM node to render to\n",
       "      var toinsert = this.create_output_subarea(\n",
       "        metadata,\n",
       "        CLASS_NAME,\n",
       "        EXEC_MIME_TYPE\n",
       "      );\n",
       "      this.keyboard_manager.register_events(toinsert);\n",
       "      // Render to node\n",
       "      var props = {data: data, metadata: metadata[EXEC_MIME_TYPE]};\n",
       "      render(props, toinsert[0]);\n",
       "      element.append(toinsert);\n",
       "      return toinsert\n",
       "    }\n",
       "\n",
       "    /* Handle when an output is cleared or removed */\n",
       "    events.on('clear_output.CodeCell', handleClearOutput);\n",
       "    events.on('delete.Cell', handleClearOutput);\n",
       "\n",
       "    /* Handle when a new output is added */\n",
       "    events.on('output_added.OutputArea', handleAddOutput);\n",
       "\n",
       "    /**\n",
       "     * Register the mime type and append_mime function with output_area\n",
       "     */\n",
       "    OutputArea.prototype.register_mime_type(EXEC_MIME_TYPE, append_mime, {\n",
       "      /* Is output safe? */\n",
       "      safe: true,\n",
       "      /* Index of renderer in `output_area.display_order` */\n",
       "      index: 0\n",
       "    });\n",
       "  }\n",
       "\n",
       "  // register the mime type if in Jupyter Notebook environment and previously unregistered\n",
       "  if (root.Jupyter !== undefined) {\n",
       "    var events = require('base/js/events');\n",
       "    var OutputArea = require('notebook/js/outputarea').OutputArea;\n",
       "\n",
       "    if (OutputArea.prototype.mime_types().indexOf(EXEC_MIME_TYPE) == -1) {\n",
       "      register_renderer(events, OutputArea);\n",
       "    }\n",
       "  }\n",
       "\n",
       "  \n",
       "  if (typeof (root._bokeh_timeout) === \"undefined\" || force === true) {\n",
       "    root._bokeh_timeout = Date.now() + 5000;\n",
       "    root._bokeh_failed_load = false;\n",
       "  }\n",
       "\n",
       "  var NB_LOAD_WARNING = {'data': {'text/html':\n",
       "     \"<div style='background-color: #fdd'>\\n\"+\n",
       "     \"<p>\\n\"+\n",
       "     \"BokehJS does not appear to have successfully loaded. If loading BokehJS from CDN, this \\n\"+\n",
       "     \"may be due to a slow or bad network connection. Possible fixes:\\n\"+\n",
       "     \"</p>\\n\"+\n",
       "     \"<ul>\\n\"+\n",
       "     \"<li>re-rerun `output_notebook()` to attempt to load from CDN again, or</li>\\n\"+\n",
       "     \"<li>use INLINE resources instead, as so:</li>\\n\"+\n",
       "     \"</ul>\\n\"+\n",
       "     \"<code>\\n\"+\n",
       "     \"from bokeh.resources import INLINE\\n\"+\n",
       "     \"output_notebook(resources=INLINE)\\n\"+\n",
       "     \"</code>\\n\"+\n",
       "     \"</div>\"}};\n",
       "\n",
       "  function display_loaded() {\n",
       "    var el = document.getElementById(\"3da09a85-848d-4fcb-bbf9-473a0760bc8e\");\n",
       "    if (el != null) {\n",
       "      el.textContent = \"BokehJS is loading...\";\n",
       "    }\n",
       "    if (root.Bokeh !== undefined) {\n",
       "      if (el != null) {\n",
       "        el.textContent = \"BokehJS \" + root.Bokeh.version + \" successfully loaded.\";\n",
       "      }\n",
       "    } else if (Date.now() < root._bokeh_timeout) {\n",
       "      setTimeout(display_loaded, 100)\n",
       "    }\n",
       "  }\n",
       "\n",
       "\n",
       "  function run_callbacks() {\n",
       "    try {\n",
       "      root._bokeh_onload_callbacks.forEach(function(callback) { callback() });\n",
       "    }\n",
       "    finally {\n",
       "      delete root._bokeh_onload_callbacks\n",
       "    }\n",
       "    console.info(\"Bokeh: all callbacks have finished\");\n",
       "  }\n",
       "\n",
       "  function load_libs(js_urls, callback) {\n",
       "    root._bokeh_onload_callbacks.push(callback);\n",
       "    if (root._bokeh_is_loading > 0) {\n",
       "      console.log(\"Bokeh: BokehJS is being loaded, scheduling callback at\", now());\n",
       "      return null;\n",
       "    }\n",
       "    if (js_urls == null || js_urls.length === 0) {\n",
       "      run_callbacks();\n",
       "      return null;\n",
       "    }\n",
       "    console.log(\"Bokeh: BokehJS not loaded, scheduling load and callback at\", now());\n",
       "    root._bokeh_is_loading = js_urls.length;\n",
       "    for (var i = 0; i < js_urls.length; i++) {\n",
       "      var url = js_urls[i];\n",
       "      var s = document.createElement('script');\n",
       "      s.src = url;\n",
       "      s.async = false;\n",
       "      s.onreadystatechange = s.onload = function() {\n",
       "        root._bokeh_is_loading--;\n",
       "        if (root._bokeh_is_loading === 0) {\n",
       "          console.log(\"Bokeh: all BokehJS libraries loaded\");\n",
       "          run_callbacks()\n",
       "        }\n",
       "      };\n",
       "      s.onerror = function() {\n",
       "        console.warn(\"failed to load library \" + url);\n",
       "      };\n",
       "      console.log(\"Bokeh: injecting script tag for BokehJS library: \", url);\n",
       "      document.getElementsByTagName(\"head\")[0].appendChild(s);\n",
       "    }\n",
       "  };var element = document.getElementById(\"3da09a85-848d-4fcb-bbf9-473a0760bc8e\");\n",
       "  if (element == null) {\n",
       "    console.log(\"Bokeh: ERROR: autoload.js configured with elementid '3da09a85-848d-4fcb-bbf9-473a0760bc8e' but no matching script tag was found. \")\n",
       "    return false;\n",
       "  }\n",
       "\n",
       "  var js_urls = [\"https://cdn.pydata.org/bokeh/release/bokeh-0.12.10.min.js\", \"https://cdn.pydata.org/bokeh/release/bokeh-widgets-0.12.10.min.js\", \"https://cdn.pydata.org/bokeh/release/bokeh-tables-0.12.10.min.js\", \"https://cdn.pydata.org/bokeh/release/bokeh-gl-0.12.10.min.js\"];\n",
       "\n",
       "  var inline_js = [\n",
       "    function(Bokeh) {\n",
       "      Bokeh.set_log_level(\"info\");\n",
       "    },\n",
       "    \n",
       "    function(Bokeh) {\n",
       "      \n",
       "    },\n",
       "    function(Bokeh) {\n",
       "      console.log(\"Bokeh: injecting CSS: https://cdn.pydata.org/bokeh/release/bokeh-0.12.10.min.css\");\n",
       "      Bokeh.embed.inject_css(\"https://cdn.pydata.org/bokeh/release/bokeh-0.12.10.min.css\");\n",
       "      console.log(\"Bokeh: injecting CSS: https://cdn.pydata.org/bokeh/release/bokeh-widgets-0.12.10.min.css\");\n",
       "      Bokeh.embed.inject_css(\"https://cdn.pydata.org/bokeh/release/bokeh-widgets-0.12.10.min.css\");\n",
       "      console.log(\"Bokeh: injecting CSS: https://cdn.pydata.org/bokeh/release/bokeh-tables-0.12.10.min.css\");\n",
       "      Bokeh.embed.inject_css(\"https://cdn.pydata.org/bokeh/release/bokeh-tables-0.12.10.min.css\");\n",
       "    }\n",
       "  ];\n",
       "\n",
       "  function run_inline_js() {\n",
       "    \n",
       "    if ((root.Bokeh !== undefined) || (force === true)) {\n",
       "      for (var i = 0; i < inline_js.length; i++) {\n",
       "        inline_js[i].call(root, root.Bokeh);\n",
       "      }if (force === true) {\n",
       "        display_loaded();\n",
       "      }} else if (Date.now() < root._bokeh_timeout) {\n",
       "      setTimeout(run_inline_js, 100);\n",
       "    } else if (!root._bokeh_failed_load) {\n",
       "      console.log(\"Bokeh: BokehJS failed to load within specified timeout.\");\n",
       "      root._bokeh_failed_load = true;\n",
       "    } else if (force !== true) {\n",
       "      var cell = $(document.getElementById(\"3da09a85-848d-4fcb-bbf9-473a0760bc8e\")).parents('.cell').data().cell;\n",
       "      cell.output_area.append_execute_result(NB_LOAD_WARNING)\n",
       "    }\n",
       "\n",
       "  }\n",
       "\n",
       "  if (root._bokeh_is_loading === 0) {\n",
       "    console.log(\"Bokeh: BokehJS loaded, going straight to plotting\");\n",
       "    run_inline_js();\n",
       "  } else {\n",
       "    load_libs(js_urls, function() {\n",
       "      console.log(\"Bokeh: BokehJS plotting callback run at\", now());\n",
       "      run_inline_js();\n",
       "    });\n",
       "  }\n",
       "}(window));"
      ],
      "application/vnd.bokehjs_load.v0+json": "\n(function(root) {\n  function now() {\n    return new Date();\n  }\n\n  var force = true;\n\n  if (typeof (root._bokeh_onload_callbacks) === \"undefined\" || force === true) {\n    root._bokeh_onload_callbacks = [];\n    root._bokeh_is_loading = undefined;\n  }\n\n  \n\n  \n  if (typeof (root._bokeh_timeout) === \"undefined\" || force === true) {\n    root._bokeh_timeout = Date.now() + 5000;\n    root._bokeh_failed_load = false;\n  }\n\n  var NB_LOAD_WARNING = {'data': {'text/html':\n     \"<div style='background-color: #fdd'>\\n\"+\n     \"<p>\\n\"+\n     \"BokehJS does not appear to have successfully loaded. If loading BokehJS from CDN, this \\n\"+\n     \"may be due to a slow or bad network connection. Possible fixes:\\n\"+\n     \"</p>\\n\"+\n     \"<ul>\\n\"+\n     \"<li>re-rerun `output_notebook()` to attempt to load from CDN again, or</li>\\n\"+\n     \"<li>use INLINE resources instead, as so:</li>\\n\"+\n     \"</ul>\\n\"+\n     \"<code>\\n\"+\n     \"from bokeh.resources import INLINE\\n\"+\n     \"output_notebook(resources=INLINE)\\n\"+\n     \"</code>\\n\"+\n     \"</div>\"}};\n\n  function display_loaded() {\n    var el = document.getElementById(\"3da09a85-848d-4fcb-bbf9-473a0760bc8e\");\n    if (el != null) {\n      el.textContent = \"BokehJS is loading...\";\n    }\n    if (root.Bokeh !== undefined) {\n      if (el != null) {\n        el.textContent = \"BokehJS \" + root.Bokeh.version + \" successfully loaded.\";\n      }\n    } else if (Date.now() < root._bokeh_timeout) {\n      setTimeout(display_loaded, 100)\n    }\n  }\n\n\n  function run_callbacks() {\n    try {\n      root._bokeh_onload_callbacks.forEach(function(callback) { callback() });\n    }\n    finally {\n      delete root._bokeh_onload_callbacks\n    }\n    console.info(\"Bokeh: all callbacks have finished\");\n  }\n\n  function load_libs(js_urls, callback) {\n    root._bokeh_onload_callbacks.push(callback);\n    if (root._bokeh_is_loading > 0) {\n      console.log(\"Bokeh: BokehJS is being loaded, scheduling callback at\", now());\n      return null;\n    }\n    if (js_urls == null || js_urls.length === 0) {\n      run_callbacks();\n      return null;\n    }\n    console.log(\"Bokeh: BokehJS not loaded, scheduling load and callback at\", now());\n    root._bokeh_is_loading = js_urls.length;\n    for (var i = 0; i < js_urls.length; i++) {\n      var url = js_urls[i];\n      var s = document.createElement('script');\n      s.src = url;\n      s.async = false;\n      s.onreadystatechange = s.onload = function() {\n        root._bokeh_is_loading--;\n        if (root._bokeh_is_loading === 0) {\n          console.log(\"Bokeh: all BokehJS libraries loaded\");\n          run_callbacks()\n        }\n      };\n      s.onerror = function() {\n        console.warn(\"failed to load library \" + url);\n      };\n      console.log(\"Bokeh: injecting script tag for BokehJS library: \", url);\n      document.getElementsByTagName(\"head\")[0].appendChild(s);\n    }\n  };var element = document.getElementById(\"3da09a85-848d-4fcb-bbf9-473a0760bc8e\");\n  if (element == null) {\n    console.log(\"Bokeh: ERROR: autoload.js configured with elementid '3da09a85-848d-4fcb-bbf9-473a0760bc8e' but no matching script tag was found. \")\n    return false;\n  }\n\n  var js_urls = [\"https://cdn.pydata.org/bokeh/release/bokeh-0.12.10.min.js\", \"https://cdn.pydata.org/bokeh/release/bokeh-widgets-0.12.10.min.js\", \"https://cdn.pydata.org/bokeh/release/bokeh-tables-0.12.10.min.js\", \"https://cdn.pydata.org/bokeh/release/bokeh-gl-0.12.10.min.js\"];\n\n  var inline_js = [\n    function(Bokeh) {\n      Bokeh.set_log_level(\"info\");\n    },\n    \n    function(Bokeh) {\n      \n    },\n    function(Bokeh) {\n      console.log(\"Bokeh: injecting CSS: https://cdn.pydata.org/bokeh/release/bokeh-0.12.10.min.css\");\n      Bokeh.embed.inject_css(\"https://cdn.pydata.org/bokeh/release/bokeh-0.12.10.min.css\");\n      console.log(\"Bokeh: injecting CSS: https://cdn.pydata.org/bokeh/release/bokeh-widgets-0.12.10.min.css\");\n      Bokeh.embed.inject_css(\"https://cdn.pydata.org/bokeh/release/bokeh-widgets-0.12.10.min.css\");\n      console.log(\"Bokeh: injecting CSS: https://cdn.pydata.org/bokeh/release/bokeh-tables-0.12.10.min.css\");\n      Bokeh.embed.inject_css(\"https://cdn.pydata.org/bokeh/release/bokeh-tables-0.12.10.min.css\");\n    }\n  ];\n\n  function run_inline_js() {\n    \n    if ((root.Bokeh !== undefined) || (force === true)) {\n      for (var i = 0; i < inline_js.length; i++) {\n        inline_js[i].call(root, root.Bokeh);\n      }if (force === true) {\n        display_loaded();\n      }} else if (Date.now() < root._bokeh_timeout) {\n      setTimeout(run_inline_js, 100);\n    } else if (!root._bokeh_failed_load) {\n      console.log(\"Bokeh: BokehJS failed to load within specified timeout.\");\n      root._bokeh_failed_load = true;\n    } else if (force !== true) {\n      var cell = $(document.getElementById(\"3da09a85-848d-4fcb-bbf9-473a0760bc8e\")).parents('.cell').data().cell;\n      cell.output_area.append_execute_result(NB_LOAD_WARNING)\n    }\n\n  }\n\n  if (root._bokeh_is_loading === 0) {\n    console.log(\"Bokeh: BokehJS loaded, going straight to plotting\");\n    run_inline_js();\n  } else {\n    load_libs(js_urls, function() {\n      console.log(\"Bokeh: BokehJS plotting callback run at\", now());\n      run_inline_js();\n    });\n  }\n}(window));"
     },
     "metadata": {},
     "output_type": "display_data"
    },
    {
     "data": {
      "text/html": [
       "\n",
       "<div class=\"bk-root\">\n",
       "    <div class=\"bk-plotdiv\" id=\"54128179-600b-465f-824f-1ddfda113c4e\"></div>\n",
       "</div>"
      ]
     },
     "metadata": {},
     "output_type": "display_data"
    },
    {
     "data": {
      "application/javascript": [
       "(function(root) {\n",
       "  function embed_document(root) {\n",
       "    var docs_json = {\"c10553ef-a593-46d5-8d74-3fdac8843cd1\":{\"roots\":{\"references\":[{\"attributes\":{\"callback\":null},\"id\":\"64a41c1a-b63a-4464-9e45-3b97de991260\",\"type\":\"DataRange1d\"},{\"attributes\":{\"fill_alpha\":{\"value\":0.1},\"fill_color\":{\"value\":\"#1f77b4\"},\"line_alpha\":{\"value\":0.1},\"line_color\":{\"value\":\"#1f77b4\"},\"size\":{\"units\":\"screen\",\"value\":10},\"x\":{\"field\":\"x\"},\"y\":{\"field\":\"y\"}},\"id\":\"cf24998f-922c-43aa-8ee7-75e5b8047ecd\",\"type\":\"Circle\"},{\"attributes\":{\"dimension\":1,\"plot\":{\"id\":\"5d43ceb5-97a1-4a06-8e36-0343aee0edb4\",\"subtype\":\"Figure\",\"type\":\"Plot\"},\"ticker\":{\"id\":\"3af5f06d-20d5-4b0a-a999-f06f88686e0a\",\"type\":\"BasicTicker\"}},\"id\":\"2cf6cf69-f40b-4712-a470-39f5f35d06b8\",\"type\":\"Grid\"},{\"attributes\":{\"axis_label\":\"First Principal Component\",\"formatter\":{\"id\":\"2d13c637-5dde-4adf-b07d-c0ece392a7a0\",\"type\":\"BasicTickFormatter\"},\"plot\":{\"id\":\"5d43ceb5-97a1-4a06-8e36-0343aee0edb4\",\"subtype\":\"Figure\",\"type\":\"Plot\"},\"ticker\":{\"id\":\"bd153e56-396c-42c5-b638-1e771e227da7\",\"type\":\"BasicTicker\"}},\"id\":\"5ca86321-928d-45f3-bb69-a015be0667d8\",\"type\":\"LinearAxis\"},{\"attributes\":{\"active_drag\":\"auto\",\"active_inspect\":\"auto\",\"active_scroll\":\"auto\",\"active_tap\":\"auto\",\"tools\":[{\"id\":\"b9819eec-3682-429b-b803-8f5e7a5e5be8\",\"type\":\"HoverTool\"}]},\"id\":\"4b8381f7-f3f4-4897-82f6-b3770abaebe0\",\"type\":\"Toolbar\"},{\"attributes\":{\"data_source\":{\"id\":\"da5123fc-5958-4959-9056-076d70a5756a\",\"type\":\"ColumnDataSource\"},\"glyph\":{\"id\":\"7cfc5af4-8cef-440b-8878-b05eea848837\",\"type\":\"Circle\"},\"hover_glyph\":null,\"muted_glyph\":null,\"nonselection_glyph\":{\"id\":\"cf24998f-922c-43aa-8ee7-75e5b8047ecd\",\"type\":\"Circle\"},\"selection_glyph\":null,\"view\":{\"id\":\"944f640b-1fd6-468e-93bc-94cba69b6048\",\"type\":\"CDSView\"}},\"id\":\"1048d748-42ba-4e08-94ed-f556afaa367c\",\"type\":\"GlyphRenderer\"},{\"attributes\":{\"fill_alpha\":{\"value\":0.2},\"fill_color\":{\"value\":\"#1f77b4\"},\"line_color\":{\"value\":\"#1f77b4\"},\"size\":{\"units\":\"screen\",\"value\":10},\"x\":{\"field\":\"x\"},\"y\":{\"field\":\"y\"}},\"id\":\"7cfc5af4-8cef-440b-8878-b05eea848837\",\"type\":\"Circle\"},{\"attributes\":{},\"id\":\"2d13c637-5dde-4adf-b07d-c0ece392a7a0\",\"type\":\"BasicTickFormatter\"},{\"attributes\":{\"callback\":null,\"column_names\":[\"x\",\"y\",\"title\",\"score\"],\"data\":{\"score\":[0.6,0.89,0.87,0.91,0.83,0.95,0.87,0.15,0.13,0.85,0.78,0.85,0.92,0.93,0.93,0.47,0.96,0.79,0.17,0.88,0.9,0.34,0.81,1.0,0.91,0.72,0.95,0.8,0.68,0.64,0.98,0.51,0.95,0.67,0.83,0.88,0.6],\"title\":[\"Independence Day (a.k.a. ID4) (1996)\",\"Spider-Man (2002)\",\"Matrix, The (1999)\",\"Shawshank Redemption, The (1994)\",\"American History X (1998)\",\"Wild Strawberries (Smultronst\\u00e4llet) (1957)\",\"Control (2007)\",\"Miss Congeniality 2: Armed and Fabulous (2005)\",\"Just My Luck (2006)\",\"Santa Sangre (1989)\",\"Videodrome (1983)\",\"Billy Elliot (2000)\",\"Pride (2014)\",\"Jurassic Park (1993)\",\"Star Wars: Episode IV - A New Hope (1977)\",\"Princess Diaries, The (2001)\",\"Schindler's List (1993)\",\"Fight Club (1999)\",\"New York Ripper, The (Squartatore di New York, Lo) (1982)\",\"American Beauty (1999)\",\"City of God (Cidade de Deus) (2002)\",\"Battleship (2012)\",\"Take Care of My Cat (Goyangileul butaghae) (2001)\",\"Terminator, The (1984)\",\"Edge of Tomorrow (2014)\",\"Forrest Gump (1994)\",\"King's Speech, The (2010)\",\"Life Is Beautiful (La Vita \\u00e8 bella) (1997)\",\"Stage Fright (Deliria) (1987)\",\"Ichi the Killer (Koroshiya 1) (2001)\",\"Brazil (1985)\",\"Fountain, The (2006)\",\"Accused, The (1988)\",\"Time to Kill, A (1996)\",\"Ghost Writer, The (2010)\",\"Superbad (2007)\",\"American Pie (1999)\"],\"x\":{\"__ndarray__\":\"mJ/0UMMEHMAI6HCcAEYawEKhvPDXkyDAxbSXjk5jF8AymjcMNIQTwLQSjsK8ifG/XaMSL3MK/b9KKqPYwFACwAqHh7IXSf2/utj0EzTD/b9bnvjOF6X9v9jStSzLwgHAPlvPvP2M/b+PoOiI0iEdwJhMp8NrTh7AElMACXBoAsAcqgBiGC8TwJHgO9kppRbAuwPU1fv1B8BcL4lX4fIIwFvx0QmpShHAaDD32z3OE8BOk6ANxN3LP2Au2YsDxx3ApfZv5ndOHMAO45FtKx4UwFyu+mXG6w3AajlpLIhJDMARSb2+3pwGwK+Ggze0VATAsWIHuEfsCcCUMSMPhWcGwOOdUAZg3AvAYimhUEF3DsD3JibWqsgNwMvtettTUwbA1F7NIWUlDcA=\",\"dtype\":\"float64\",\"shape\":[37]},\"y\":{\"__ndarray__\":\"lQcCaRVN/z+AKIjRRWMDQIp+kdztqhhA/ehT18qGIECyMdVLh9AgQFDq8qnO3h1AiRB6t/Q8HUAI/gzQOLDRPyoDikvKYbc/yaPJ9XvpFUCKpbLPy1cRQP9ranRJcxRAk2KQMpxmFUD+wQiTirwLQNxHiDIMIhVAqM3AgNEJ6D+qRqf1lQYgQCCPO1HA5SBALC7Y6IIGBUC4sO2tfDAhQBDq6DjIuSFArrrrrxM2tD/unjLKRHgEQDqOCHLmjBNAmEKmt9ZsEUCq54kiVVIYQKsgG3mOZxlA0mw4EPRuGkBjqcEfhasRQNishlTiQRFAkiQrAnVeGUBAJCavMyIXQPy+cxDFIxdA18r6j0gLDkBbynMRxsEVQBNuVyt0hw1ARPOBKDWzAUA=\",\"dtype\":\"float64\",\"shape\":[37]}}},\"id\":\"da5123fc-5958-4959-9056-076d70a5756a\",\"type\":\"ColumnDataSource\"},{\"attributes\":{},\"id\":\"3af5f06d-20d5-4b0a-a999-f06f88686e0a\",\"type\":\"BasicTicker\"},{\"attributes\":{\"plot\":{\"id\":\"5d43ceb5-97a1-4a06-8e36-0343aee0edb4\",\"subtype\":\"Figure\",\"type\":\"Plot\"},\"ticker\":{\"id\":\"bd153e56-396c-42c5-b638-1e771e227da7\",\"type\":\"BasicTicker\"}},\"id\":\"a46e51cb-43e1-465b-8d1e-cc8df027d5c2\",\"type\":\"Grid\"},{\"attributes\":{\"source\":{\"id\":\"da5123fc-5958-4959-9056-076d70a5756a\",\"type\":\"ColumnDataSource\"}},\"id\":\"944f640b-1fd6-468e-93bc-94cba69b6048\",\"type\":\"CDSView\"},{\"attributes\":{},\"id\":\"14f461c1-9b27-4178-81aa-58c856947f81\",\"type\":\"LinearScale\"},{\"attributes\":{\"axis_label\":\"Second Principal Component\",\"formatter\":{\"id\":\"05e123fe-29bb-44bc-963b-bd51b9de6c9b\",\"type\":\"BasicTickFormatter\"},\"plot\":{\"id\":\"5d43ceb5-97a1-4a06-8e36-0343aee0edb4\",\"subtype\":\"Figure\",\"type\":\"Plot\"},\"ticker\":{\"id\":\"3af5f06d-20d5-4b0a-a999-f06f88686e0a\",\"type\":\"BasicTicker\"}},\"id\":\"a65b6bc0-edde-4fa2-8f40-6f6716679131\",\"type\":\"LinearAxis\"},{\"attributes\":{\"below\":[{\"id\":\"5ca86321-928d-45f3-bb69-a015be0667d8\",\"type\":\"LinearAxis\"}],\"left\":[{\"id\":\"a65b6bc0-edde-4fa2-8f40-6f6716679131\",\"type\":\"LinearAxis\"}],\"plot_height\":500,\"plot_width\":500,\"renderers\":[{\"id\":\"5ca86321-928d-45f3-bb69-a015be0667d8\",\"type\":\"LinearAxis\"},{\"id\":\"a46e51cb-43e1-465b-8d1e-cc8df027d5c2\",\"type\":\"Grid\"},{\"id\":\"a65b6bc0-edde-4fa2-8f40-6f6716679131\",\"type\":\"LinearAxis\"},{\"id\":\"2cf6cf69-f40b-4712-a470-39f5f35d06b8\",\"type\":\"Grid\"},{\"id\":\"1048d748-42ba-4e08-94ed-f556afaa367c\",\"type\":\"GlyphRenderer\"}],\"title\":{\"id\":\"e20d2466-f1c3-4b76-ae23-d710cc68e8d3\",\"type\":\"Title\"},\"toolbar\":{\"id\":\"4b8381f7-f3f4-4897-82f6-b3770abaebe0\",\"type\":\"Toolbar\"},\"x_range\":{\"id\":\"64a41c1a-b63a-4464-9e45-3b97de991260\",\"type\":\"DataRange1d\"},\"x_scale\":{\"id\":\"79d68f65-574b-440b-b103-fcd3d9dfccac\",\"type\":\"LinearScale\"},\"y_range\":{\"id\":\"b472341f-c7d3-45f2-b821-9c1cb8a8f9c4\",\"type\":\"DataRange1d\"},\"y_scale\":{\"id\":\"14f461c1-9b27-4178-81aa-58c856947f81\",\"type\":\"LinearScale\"}},\"id\":\"5d43ceb5-97a1-4a06-8e36-0343aee0edb4\",\"subtype\":\"Figure\",\"type\":\"Plot\"},{\"attributes\":{},\"id\":\"05e123fe-29bb-44bc-963b-bd51b9de6c9b\",\"type\":\"BasicTickFormatter\"},{\"attributes\":{\"plot\":null,\"text\":\"Movie visualization of selected movies\"},\"id\":\"e20d2466-f1c3-4b76-ae23-d710cc68e8d3\",\"type\":\"Title\"},{\"attributes\":{},\"id\":\"79d68f65-574b-440b-b103-fcd3d9dfccac\",\"type\":\"LinearScale\"},{\"attributes\":{},\"id\":\"bd153e56-396c-42c5-b638-1e771e227da7\",\"type\":\"BasicTicker\"},{\"attributes\":{\"callback\":null,\"tooltips\":[[\"index\",\"$index\"],[\"(x,y)\",\"($x, $y)\"],[\"Name\",\"@desc\"],[\"Rating\",\"@score\"]]},\"id\":\"b9819eec-3682-429b-b803-8f5e7a5e5be8\",\"type\":\"HoverTool\"},{\"attributes\":{\"callback\":null},\"id\":\"b472341f-c7d3-45f2-b821-9c1cb8a8f9c4\",\"type\":\"DataRange1d\"}],\"root_ids\":[\"5d43ceb5-97a1-4a06-8e36-0343aee0edb4\"]},\"title\":\"Bokeh Application\",\"version\":\"0.12.10\"}};\n",
       "    var render_items = [{\"docid\":\"c10553ef-a593-46d5-8d74-3fdac8843cd1\",\"elementid\":\"54128179-600b-465f-824f-1ddfda113c4e\",\"modelid\":\"5d43ceb5-97a1-4a06-8e36-0343aee0edb4\"}];\n",
       "\n",
       "    root.Bokeh.embed.embed_items(docs_json, render_items);\n",
       "  }\n",
       "\n",
       "  if (root.Bokeh !== undefined) {\n",
       "    embed_document(root);\n",
       "  } else {\n",
       "    var attempts = 0;\n",
       "    var timer = setInterval(function(root) {\n",
       "      if (root.Bokeh !== undefined) {\n",
       "        embed_document(root);\n",
       "        clearInterval(timer);\n",
       "      }\n",
       "      attempts++;\n",
       "      if (attempts > 100) {\n",
       "        console.log(\"Bokeh: ERROR: Unable to embed document because BokehJS library is missing\")\n",
       "        clearInterval(timer);\n",
       "      }\n",
       "    }, 10, root)\n",
       "  }\n",
       "})(window);"
      ],
      "application/vnd.bokehjs_exec.v0+json": ""
     },
     "metadata": {
      "application/vnd.bokehjs_exec.v0+json": {
       "id": "5d43ceb5-97a1-4a06-8e36-0343aee0edb4"
      }
     },
     "output_type": "display_data"
    }
   ],
   "source": [
    "\n",
    "output_notebook()\n",
    "\n",
    "\n",
    "output_file(\"selected_ratings.html\")\n",
    "\n",
    "source = ColumnDataSource(\n",
    "        data=dict(\n",
    "            x=projected[0,:],\n",
    "            y=projected[1,:],\n",
    "            title=titles ,\n",
    "            score=score\n",
    "        )\n",
    "    )\n",
    "\n",
    "hover = HoverTool(\n",
    "        tooltips=[\n",
    "            (\"index\", \"$index\"),\n",
    "            (\"(x,y)\", \"($x, $y)\"),\n",
    "            (\"Name\", \"@desc\"),\n",
    "            (\"Rating\", \"@score\"),\n",
    "        ]\n",
    "    )\n",
    "\n",
    "p = figure(plot_width=500, plot_height=500, tools=[hover],\n",
    "           title=\"Movie visualization of selected movies\")\n",
    "p.xaxis.axis_label = 'First Principal Component'\n",
    "p.yaxis.axis_label = 'Second Principal Component'\n",
    "\n",
    "p.circle('x', 'y', fill_alpha=0.2, size=10, source=source)\n",
    "\n",
    "show(p)"
   ]
  },
  {
   "cell_type": "code",
   "execution_count": null,
   "metadata": {
    "collapsed": true
   },
   "outputs": [],
   "source": []
  }
 ],
 "metadata": {
  "kernelspec": {
   "display_name": "Python 3",
   "language": "python",
   "name": "python3"
  }
 },
 "nbformat": 4,
 "nbformat_minor": 2
}
