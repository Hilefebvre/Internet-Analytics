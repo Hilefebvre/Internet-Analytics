{
 "cells": [
  {
   "cell_type": "markdown",
   "metadata": {},
   "source": [
    "# Networks: structure, evolution & processes\n",
    "**Internet Analytics - Lab 2**\n",
    "\n",
    "---\n",
    "\n",
    "**Group:** *Your group letter.*\n",
    "\n",
    "**Names:**\n",
    "\n",
    "* *Name 1*\n",
    "* *Name 2*\n",
    "* *Name 3*\n",
    "\n",
    "---\n",
    "\n",
    "#### Instructions\n",
    "\n",
    "*This is a template for part 1 of the lab. Clearly write your answers, comments and interpretations in Markodown cells. Don't forget that you can add $\\LaTeX$ equations in these cells. Feel free to add or remove any cell.*\n",
    "\n",
    "*Please properly comment your code. Code readability will be considered for grading. To avoid long cells of codes in the notebook, you can also embed long python functions and classes in a separate module. Don’t forget to hand in your module if that is the case. In multiple exercises, you are required to come up with your own method to solve various problems. Be creative and clearly motivate and explain your methods. Creativity and clarity will be considered for grading.*"
   ]
  },
  {
   "cell_type": "markdown",
   "metadata": {},
   "source": [
    "---\n",
    "\n",
    "## 2.1 Exploration of real networks\n",
    "\n"
   ]
  },
  {
   "cell_type": "markdown",
   "metadata": {},
   "source": [
    "Let's first import our useful libraires."
   ]
  },
  {
   "cell_type": "code",
   "execution_count": 154,
   "metadata": {
    "collapsed": true
   },
   "outputs": [],
   "source": [
    "import seaborn as sn\n",
    "import pandas as pd\n",
    "import networkx as nx\n",
    "import matplotlib.pyplot as plt\n",
    "import numpy as np\n",
    "import os\n",
    "%matplotlib inline"
   ]
  },
  {
   "cell_type": "markdown",
   "metadata": {},
   "source": [
    "You will find below fonctions we use for part 1:"
   ]
  },
  {
   "cell_type": "markdown",
   "metadata": {},
   "source": [
    "- Degree distribution : we count the number of nodes per degreem"
   ]
  },
  {
   "cell_type": "code",
   "execution_count": 155,
   "metadata": {
    "collapsed": true
   },
   "outputs": [],
   "source": [
    "def deg_distrib(file):\n",
    "    degs = {}\n",
    "    for n in file.nodes () :\n",
    "        deg = file.degree ( n )\n",
    "    \n",
    "        if deg not in degs :\n",
    "            degs [ deg ] = 0\n",
    "            degs [ deg ] += 1\n",
    "        else :\n",
    "            degs [ deg ] += 1\n",
    "    return degs"
   ]
  },
  {
   "cell_type": "markdown",
   "metadata": {},
   "source": [
    "- Node & Edge information :"
   ]
  },
  {
   "cell_type": "code",
   "execution_count": 156,
   "metadata": {
    "collapsed": true
   },
   "outputs": [],
   "source": [
    "def node_edge_info(file):\n",
    "    print(\"The number of nodes is\", file.number_of_nodes())\n",
    "    print(\"The number of edges is\", file.number_of_edges())\n",
    "    print(\"The number of different degrees is\", len(deg_distrib(file)))\n",
    "    print(\"The maximum degree is\", max(deg_distrib(file)))"
   ]
  },
  {
   "cell_type": "markdown",
   "metadata": {},
   "source": [
    "- Plot of degree distribution as an histogram and a boxplot to see outliers"
   ]
  },
  {
   "cell_type": "code",
   "execution_count": 349,
   "metadata": {
    "scrolled": true
   },
   "outputs": [],
   "source": [
    "def hist_deg(network):\n",
    "    plt.close('all')\n",
    "    f, (ax1, ax2) = plt.subplots(1, 2,figsize=(20,10))\n",
    "    \n",
    "    ax1.bar(deg_distrib(network).keys(), {k: v / network.number_of_edges()  for k, v in deg_distrib(network).items()}.values(),color='g')\n",
    "    ax1.set_ylabel('Probability')\n",
    "    ax1.set_title('Barchart - Degree distribution of the network with %i' % network.number_of_nodes() + ' nodes')\n",
    "    ax1.set_xlabel('Degree')\n",
    "    \n",
    "    if max(deg_distrib(network))>100:\n",
    "        ax1.set_xscale(\"log\")\n",
    "        ax1.set_title('Barchart - Log Degree distribution of the network with %i' % network.number_of_nodes() + ' nodes')      \n",
    "          \n",
    "    ax2.hist(list(deg_distrib(network)),cumulative=True,density=True)   \n",
    "    ax2.set_xlabel('Degree')\n",
    "    ax2.set_ylabel('Cumulative probability')\n",
    "    ax2.set_title('Cumulative histogram - Degree distribution with %i' % network.number_of_nodes() + ' nodes')   "
   ]
  },
  {
   "cell_type": "code",
   "execution_count": 364,
   "metadata": {
    "collapsed": true
   },
   "outputs": [],
   "source": [
    "def box_plot(network):\n",
    "    plt.figure(figsize=(15,8))\n",
    "    plt.boxplot(list(sorted(deg_distrib(network))),vert=False);\n",
    "    plt.xlabel('Degree')\n",
    "    plt.title('Boxplot - Degree distribution ')"
   ]
  },
  {
   "cell_type": "markdown",
   "metadata": {},
   "source": [
    "#### Exercise 2.1"
   ]
  },
  {
   "cell_type": "markdown",
   "metadata": {},
   "source": [
    "Let's load the 2 networks via nx:"
   ]
  },
  {
   "cell_type": "code",
   "execution_count": 158,
   "metadata": {
    "collapsed": true
   },
   "outputs": [],
   "source": [
    "file1=nx.read_edgelist('../data/network1.csv', comments='#', delimiter=',', create_using=None, nodetype=None, data=True, edgetype=None, encoding='utf-8')\n",
    "file2=nx.read_edgelist('../data/network2.csv', comments='#', delimiter=',', create_using=None, nodetype=None, data=True, edgetype=None, encoding='utf-8')"
   ]
  },
  {
   "cell_type": "markdown",
   "metadata": {},
   "source": [
    "Below some key data about network1:"
   ]
  },
  {
   "cell_type": "code",
   "execution_count": 159,
   "metadata": {},
   "outputs": [
    {
     "name": "stdout",
     "output_type": "stream",
     "text": [
      "The number of nodes is 13033\n",
      "The number of edges is 18584\n",
      "The number of different degrees is 94\n",
      "The maximum degree is 1482\n"
     ]
    }
   ],
   "source": [
    "#Number of different degrees\n",
    "node_edge_info(file1)"
   ]
  },
  {
   "cell_type": "markdown",
   "metadata": {},
   "source": [
    "#### Exercise 2.2:  Node degree distribution"
   ]
  },
  {
   "cell_type": "markdown",
   "metadata": {},
   "source": [
    "Let's compute a dictionnary of degrees to check degree distribution. We use deg_distrib function above, itself called in the histogram drawing."
   ]
  },
  {
   "cell_type": "markdown",
   "metadata": {},
   "source": [
    "Histogram is the best way to observe degree distribution. We can also have a look to a boxplot of degrees to see where median is and to highlight outliers corresponding to main components."
   ]
  },
  {
   "cell_type": "markdown",
   "metadata": {},
   "source": [
    "The main properties of the degree distribution are :\n",
    "- provide some insights about the the structure of the network but ignores how nodes are connected to eachother\n",
    "- we can have a first guess about the probability law that can be approximated\n"
   ]
  },
  {
   "cell_type": "code",
   "execution_count": 365,
   "metadata": {},
   "outputs": [
    {
     "data": {
      "image/png": "[encoded data removed]",
      "text/plain": [
       "<matplotlib.figure.Figure at 0x7fd00d7339b0>"
      ]
     },
     "metadata": {},
     "output_type": "display_data"
    }
   ],
   "source": [
    "box_plot(file1)"
   ]
  },
  {
   "cell_type": "code",
   "execution_count": 352,
   "metadata": {},
   "outputs": [
    {
     "data": {
      "image/png": "[encoded data removed]",
      "text/plain": [
       "<matplotlib.figure.Figure at 0x7fd00c665550>"
      ]
     },
     "metadata": {},
     "output_type": "display_data"
    }
   ],
   "source": [
    "hist_deg(file1)"
   ]
  },
  {
   "cell_type": "markdown",
   "metadata": {},
   "source": [
    "We notice that the two main components have more than 1000 degrees"
   ]
  },
  {
   "cell_type": "markdown",
   "metadata": {},
   "source": [
    "We recognize a well-know degree distribution called \"power law\". Click [here](https://en.wikipedia.org/wiki/Power_law) for more info."
   ]
  },
  {
   "cell_type": "code",
   "execution_count": 161,
   "metadata": {
    "collapsed": true
   },
   "outputs": [],
   "source": [
    "#Powerlaw estimation"
   ]
  },
  {
   "cell_type": "markdown",
   "metadata": {},
   "source": [
    "#### Exercise 2.3: Giant component"
   ]
  },
  {
   "cell_type": "markdown",
   "metadata": {
    "collapsed": true
   },
   "source": [
    "Number of connected components :"
   ]
  },
  {
   "cell_type": "code",
   "execution_count": 162,
   "metadata": {
    "collapsed": true
   },
   "outputs": [],
   "source": [
    "def Nb_connected(file):\n",
    "    Connec=nx.number_connected_components(file)\n",
    "    print('The number of connected components is:', Connec)"
   ]
  },
  {
   "cell_type": "code",
   "execution_count": 163,
   "metadata": {
    "collapsed": true
   },
   "outputs": [],
   "source": [
    "def identify_giant(file):\n",
    "    giant = max(nx.connected_component_subgraphs(file), key=len)\n",
    "    print('The size of the giant component is :',len(giant))#Size/Nb of nodes of the giant component"
   ]
  },
  {
   "cell_type": "code",
   "execution_count": 164,
   "metadata": {},
   "outputs": [
    {
     "name": "stdout",
     "output_type": "stream",
     "text": [
      "The number of connected components is: 192\n"
     ]
    }
   ],
   "source": [
    "Nb_connected(file1)"
   ]
  },
  {
   "cell_type": "code",
   "execution_count": 165,
   "metadata": {},
   "outputs": [
    {
     "name": "stdout",
     "output_type": "stream",
     "text": [
      "The size of the giant component is : 12576\n"
     ]
    }
   ],
   "source": [
    "identify_giant(file1)"
   ]
  },
  {
   "cell_type": "markdown",
   "metadata": {},
   "source": [
    "Corresponds to the extreme value of the histogram above"
   ]
  },
  {
   "cell_type": "markdown",
   "metadata": {},
   "source": [
    "#### Exercise 2.4: Short paths & Small-worlds"
   ]
  },
  {
   "cell_type": "markdown",
   "metadata": {
    "collapsed": true
   },
   "source": [
    "In his book “Six Degrees”, Duncan Watts explains the small-world effect by the now famous\n",
    "claim that everyone on the planet is connected by an average of only “six degrees of\n",
    "separation”. Do you think that network1 is a small-world? Justify your answer.\n",
    "Hint:\n",
    "\n",
    "• What is the distribution of path lengths between any two nodes in the network?\n",
    "• How fast is the network growing? I.e. what is the average number of nodes reachable\n",
    "within a distance r (in number of hops) of any other node in the network?"
   ]
  },
  {
   "cell_type": "markdown",
   "metadata": {},
   "source": [
    "#### Exercise 2.5: Network comparison"
   ]
  },
  {
   "cell_type": "code",
   "execution_count": 166,
   "metadata": {
    "scrolled": true
   },
   "outputs": [
    {
     "name": "stdout",
     "output_type": "stream",
     "text": [
      "The number of nodes is 26542\n",
      "The number of edges is 43516\n",
      "The number of different degrees is 8\n",
      "The maximum degree is 8\n"
     ]
    }
   ],
   "source": [
    "node_edge_info(file2)"
   ]
  },
  {
   "cell_type": "code",
   "execution_count": 362,
   "metadata": {},
   "outputs": [
    {
     "data": {
      "image/png": "[encoded data removed]",
      "text/plain": [
       "<matplotlib.figure.Figure at 0x7fd00ce11080>"
      ]
     },
     "metadata": {},
     "output_type": "display_data"
    }
   ],
   "source": [
    "hist_deg(file2)"
   ]
  },
  {
   "cell_type": "code",
   "execution_count": 366,
   "metadata": {},
   "outputs": [
    {
     "data": {
      "image/png": "[encoded data removed]",
      "text/plain": [
       "<matplotlib.figure.Figure at 0x7fd00a06e9b0>"
      ]
     },
     "metadata": {},
     "output_type": "display_data"
    }
   ],
   "source": [
    "box_plot(file2)"
   ]
  },
  {
   "cell_type": "code",
   "execution_count": 367,
   "metadata": {
    "collapsed": true
   },
   "outputs": [],
   "source": [
    "#estimation normal law parameters"
   ]
  },
  {
   "cell_type": "markdown",
   "metadata": {},
   "source": [
    "Network 2 distribution looks more Gaussian, and not like an power law. Number of possible degrees ranges from 1 to 8 with a number of nodes twice as the one of Network 1."
   ]
  },
  {
   "cell_type": "markdown",
   "metadata": {},
   "source": [
    "#### Exercise 2.6: Network identification"
   ]
  },
  {
   "cell_type": "markdown",
   "metadata": {
    "collapsed": true
   },
   "source": [
    "We notice that for Network 2, Degree=4 is the most represented. And NewYork has been built with perpendicular streets and thus we can suppose that every intersection(node) offer 4 directions (edges). We can confirm this assumption seeing that after 4 degrees, the network distribution go down really fast. Indeed, intersection of 5 streets are really uncommon.\n",
    "\n",
    "Routers make the interface between Internet and Private subnetworks. So we expect a descreasing distribution of edges since most of routeurs lead to private/family subnets."
   ]
  }
 ],
 "metadata": {
  "kernelspec": {
   "display_name": "Python 3",
   "language": "python",
   "name": "python3"
  },
  "language_info": {
   "codemirror_mode": {
    "name": "ipython",
    "version": 3
   },
   "file_extension": ".py",
   "mimetype": "text/x-python",
   "name": "python",
   "nbconvert_exporter": "python",
   "pygments_lexer": "ipython3",
   "version": "3.6.3"
  }
 },
 "nbformat": 4,
 "nbformat_minor": 2
}
