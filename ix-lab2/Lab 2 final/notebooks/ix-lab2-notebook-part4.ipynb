{
 "cells": [
  {
   "cell_type": "markdown",
   "metadata": {},
   "source": [
    "# Networks: structure, evolution & processes\n",
    "**Internet Analytics - Lab 2**\n",
    "\n",
    "---\n",
    "\n",
    "**Group:** *F*\n",
    "\n",
    "**Names:**\n",
    "\n",
    "* *Hippolyte Lefebvre*\n",
    "* *Micheli Vincent*\n",
    "* *Dessimoz Franck*\n",
    "\n",
    "---\n",
    "\n",
    "#### Instructions\n",
    "\n",
    "*This is a template for part 4 of the lab. Clearly write your answers, comments and interpretations in Markodown cells. Don't forget that you can add $\\LaTeX$ equations in these cells. Feel free to add or remove any cell.*\n",
    "\n",
    "*Please properly comment your code. Code readability will be considered for grading. To avoid long cells of codes in the notebook, you can also embed long python functions and classes in a separate module. Don’t forget to hand in your module if that is the case. In multiple exercises, you are required to come up with your own method to solve various problems. Be creative and clearly motivate and explain your methods. Creativity and clarity will be considered for grading.*"
   ]
  },
  {
   "cell_type": "markdown",
   "metadata": {},
   "source": [
    "---\n",
    "\n",
    "## 2.4 PageRank\n",
    "\n",
    "### 2.4.1 Random Surfer Model\n",
    "\n",
    "#### Exercise 2.12"
   ]
  },
  {
   "cell_type": "code",
   "execution_count": 1,
   "metadata": {
    "collapsed": true
   },
   "outputs": [],
   "source": [
    "import numpy as np\n",
    "import networkx as nx\n",
    "import matplotlib.pyplot as plt\n",
    "import collections\n",
    "\n",
    "abs_graph = nx.read_adjlist(\"../data/absorbing.graph\", create_using = nx.DiGraph())\n",
    "comp_graph = nx.read_adjlist(\"../data/components.graph\", create_using = nx.DiGraph())"
   ]
  },
  {
   "cell_type": "code",
   "execution_count": 2,
   "metadata": {},
   "outputs": [
    {
     "data": {
      "image/png": "[encoded data removed]",
      "text/plain": [
       "<matplotlib.figure.Figure at 0x7fa17350fac8>"
      ]
     },
     "metadata": {},
     "output_type": "display_data"
    }
   ],
   "source": [
    "nx.draw_networkx(abs_graph)\n",
    "plt.show()"
   ]
  },
  {
   "cell_type": "code",
   "execution_count": 3,
   "metadata": {},
   "outputs": [
    {
     "data": {
      "image/png": "[encoded data removed]",
      "text/plain": [
       "<matplotlib.figure.Figure at 0x7fa1563b3da0>"
      ]
     },
     "metadata": {},
     "output_type": "display_data"
    }
   ],
   "source": [
    "nx.draw_networkx(comp_graph)\n",
    "plt.show()"
   ]
  },
  {
   "cell_type": "code",
   "execution_count": 4,
   "metadata": {},
   "outputs": [
    {
     "name": "stdout",
     "output_type": "stream",
     "text": [
      "{'2': 0.001, '3': 0.001, '0': 0.001, '1': 0.997}\n",
      "{'5': 0.151, '6': 0.283, '7': 0.283, '4': 0.283}\n"
     ]
    }
   ],
   "source": [
    "def random_surfer(graph,n):\n",
    "    current = np.random.choice(graph.nodes())\n",
    "    visit = collections.defaultdict(int)\n",
    "    \n",
    "    for i in range(n):\n",
    "        visit[current] += 1\n",
    "        neighbors = list(graph.neighbors(current))\n",
    "        if len(neighbors) > 0:\n",
    "            current = np.random.choice(neighbors)\n",
    "   \n",
    "    return dict([(k,v/n) for k,v in visit.items()])\n",
    "        \n",
    "print(random_surfer(abs_graph,1000))\n",
    "print(random_surfer(comp_graph,1000))"
   ]
  },
  {
   "cell_type": "markdown",
   "metadata": {},
   "source": [
    "In the first graph, we end up stuck in an absorbing state (i.e node 1).\n",
    "In the second graph, we also end up stuck in an absorbing class (i.e either 4,5,6,7 or 0,1,2,3)."
   ]
  },
  {
   "cell_type": "markdown",
   "metadata": {},
   "source": [
    "#### Exercise 2.13"
   ]
  },
  {
   "cell_type": "code",
   "execution_count": 5,
   "metadata": {},
   "outputs": [
    {
     "name": "stdout",
     "output_type": "stream",
     "text": [
      "{'4': 0.151, '1': 0.351, '2': 0.139, '3': 0.197, '0': 0.162}\n",
      "{'4': 0.12, '5': 0.067, '6': 0.129, '7': 0.135, '0': 0.155, '1': 0.154, '3': 0.086, '2': 0.154}\n"
     ]
    }
   ],
   "source": [
    "def smart_random_surfer(graph,n,damping):\n",
    "    current = np.random.choice(graph.nodes())\n",
    "    visit = collections.defaultdict(int)\n",
    "    \n",
    "    for i in range(n):\n",
    "        visit[current] += 1\n",
    "        neighbors = list(graph.neighbors(current))\n",
    "        if np.random.randint(0,101) > damping:\n",
    "            if len(neighbors) > 0:\n",
    "                current = np.random.choice(neighbors)\n",
    "            else:\n",
    "                current = np.random.choice(graph.nodes())\n",
    "        else:\n",
    "            current = np.random.choice(graph.nodes())\n",
    "   \n",
    "    return dict([(k,v/n) for k,v in visit.items()])\n",
    "        \n",
    "print(smart_random_surfer(abs_graph,1000,15))\n",
    "print(smart_random_surfer(comp_graph,1000,15))"
   ]
  },
  {
   "cell_type": "markdown",
   "metadata": {},
   "source": [
    "Yes it does since in the first graph 1 is still the highest ranked node but we also get a fair ranking of the other nodes. In the second graph nodes ranking are also fair and do not take into account the starting class."
   ]
  },
  {
   "cell_type": "markdown",
   "metadata": {},
   "source": [
    "---\n",
    "\n",
    "### 2.4.2 Power Iteration Method\n",
    "\n",
    "#### Exercise 2.14: Power Iteration method"
   ]
  },
  {
   "cell_type": "code",
   "execution_count": 6,
   "metadata": {
    "collapsed": true
   },
   "outputs": [],
   "source": [
    "wiki_graph = nx.read_adjlist(\"../data/wikipedia.graph\", create_using = nx.DiGraph())"
   ]
  },
  {
   "cell_type": "code",
   "execution_count": 7,
   "metadata": {
    "collapsed": true
   },
   "outputs": [],
   "source": [
    "#The implementation is straightforward and uses the course slides recommendations for the parameters steps and theta\n",
    "def power_iteration(graph,steps,theta):\n",
    "    n = graph.number_of_nodes()\n",
    "    nodes = graph.nodes()\n",
    "    h = np.zeros((n,n))\n",
    "    w = np.zeros(n)\n",
    "    \n",
    "    for u in nodes:\n",
    "        for v in nodes:\n",
    "            if graph.has_edge(u,v):\n",
    "                h[int(u),int(v)] = 1/len(list(graph.neighbors(u)))\n",
    "    \n",
    "    for i in range(n):\n",
    "        if np.array_equal(h[i],np.zeros(n)):\n",
    "            w[i] = 1\n",
    "    \n",
    "    dangling = (1/n) * np.outer(w,np.ones(n))\n",
    "    h_hat = h + dangling\n",
    "    restart = (1/n)*np.ones((n,n))\n",
    "    \n",
    "    g = h_hat*theta + (1-theta)*restart\n",
    "    \n",
    "    pi_zero = (1/n) * np.ones(n)\n",
    "    \n",
    "    for i in range(steps):\n",
    "        pi_zero = np.dot(pi_zero,g)\n",
    "   \n",
    "    return pi_zero\n",
    "\n",
    "ranks = power_iteration(wiki_graph,100,0.85)"
   ]
  },
  {
   "cell_type": "code",
   "execution_count": 8,
   "metadata": {},
   "outputs": [
    {
     "name": "stdout",
     "output_type": "stream",
     "text": [
      "Top 10 pages according to their PageRank score:\n",
      "1 United States\n",
      "2 United Kingdom\n",
      "3 France\n",
      "4 Europe\n",
      "5 Germany\n",
      "6 England\n",
      "7 World War II\n",
      "8 Latin\n",
      "9 India\n",
      "10 English language\n"
     ]
    }
   ],
   "source": [
    "from pandas import DataFrame\n",
    "df = DataFrame.from_csv(\"../data/wikipedia_titles.tsv\", sep=\"\\t\")\n",
    "\n",
    "#Ordered_numbers holds original indexes of the sorted ranks\n",
    "ordered_numbers = np.argsort(ranks)[::-1]\n",
    "result = [df.iloc[r]['page_title'] for r in ordered_numbers[:10]]\n",
    "print(\"Top 10 pages according to their PageRank score:\")\n",
    "for i,r in enumerate(result,1):\n",
    "    print(i,r)"
   ]
  },
  {
   "cell_type": "markdown",
   "metadata": {},
   "source": [
    "---\n",
    "\n",
    "### 2.4.3 Gaming the system *(Bonus)*\n",
    "\n",
    "#### Exercise 2.15 *(Bonus)*"
   ]
  },
  {
   "cell_type": "code",
   "execution_count": 12,
   "metadata": {},
   "outputs": [
    {
     "name": "stdout",
     "output_type": "stream",
     "text": [
      "                      page_title\n",
      "#page_id                        \n",
      "2463      History of mathematics\n"
     ]
    }
   ],
   "source": [
    "print(df.loc[df['page_title'] == 'History of mathematics'])"
   ]
  },
  {
   "cell_type": "code",
   "execution_count": 13,
   "metadata": {},
   "outputs": [
    {
     "name": "stdout",
     "output_type": "stream",
     "text": [
      "History of mathematics\n",
      "Score:  9.84634105555e-05\n",
      "Rank:  2530\n"
     ]
    }
   ],
   "source": [
    "print('History of mathematics')\n",
    "print(\"Score: \",ranks[2463])\n",
    "print(\"Rank: \", ordered_numbers.tolist().index(2463)+1)"
   ]
  },
  {
   "cell_type": "markdown",
   "metadata": {},
   "source": [
    "Our strategy to increase the PageRank score of the page History of mathematics is the following:  \n",
    "We will sort pages according to their page rank score divided by their out degree. Then we will add an edge from the top 300 sorted pages to the History of Mathematics page. We are just using the basic PageRank score formula. Basically, we increase the probability that the random walk will go through our page by making highly probable pages with few links point to it."
   ]
  },
  {
   "cell_type": "code",
   "execution_count": 20,
   "metadata": {},
   "outputs": [
    {
     "name": "stdout",
     "output_type": "stream",
     "text": [
      "Top 10 pages according to their PageRank score:\n",
      "1 History of mathematics\n",
      "2 Mathematics\n",
      "3 United States\n",
      "4 France\n",
      "5 Latin\n",
      "6 United Kingdom\n",
      "7 England\n",
      "8 Europe\n",
      "9 Italy\n",
      "10 China\n"
     ]
    }
   ],
   "source": [
    "G = wiki_graph.copy()\n",
    "\n",
    "#Get the inverted out degree or 0 if absorbing node\n",
    "inv_out_degs = [1/len(list(G.neighbors(node))) if len(list(G.neighbors(node))) > 0 else 0 for node in G.nodes()]\n",
    "#Get the top 300 \"new\" sorted nodes\n",
    "smart_ranks = np.argsort(ranks * inv_out_degs)[::-1][:300]\n",
    "\n",
    "for i in smart_ranks:\n",
    "    G.add_edge(i,2463)\n",
    "\n",
    "#Previous part bis repetita\n",
    "pi_victory = power_iteration(G,100,0.85)\n",
    "order2 = np.argsort(pi_victory)[::-1]\n",
    "result2 = [df.iloc[r]['page_title'] for r in order2[:10]]\n",
    "print(\"Top 10 pages according to their PageRank score:\")\n",
    "for i,r in enumerate(result2,1):\n",
    "    print(i,r)"
   ]
  },
  {
   "cell_type": "markdown",
   "metadata": {},
   "source": [
    "We manage to obtain the number one spot. We even give the number two spot to Mathematics !"
   ]
  }
 ],
 "metadata": {
  "kernelspec": {
   "display_name": "Python 3",
   "language": "python",
   "name": "python3"
  },
  "language_info": {
   "codemirror_mode": {
    "name": "ipython",
    "version": 3
   },
   "file_extension": ".py",
   "mimetype": "text/x-python",
   "name": "python",
   "nbconvert_exporter": "python",
   "pygments_lexer": "ipython3",
   "version": "3.6.3"
  }
 },
 "nbformat": 4,
 "nbformat_minor": 2
}
