{
 "cells": [
  {
   "cell_type": "markdown",
   "metadata": {},
   "source": [
    "# Networks: structure, evolution & processes\n",
    "**Internet Analytics - Lab 2**\n",
    "\n",
    "---\n",
    "\n",
    "**Group:** *F*\n",
    "\n",
    "**Names:**\n",
    "\n",
    "* *Dessimoz Franck*\n",
    "* *Lefebvre Hippolyte*\n",
    "* *Micheli Vincent*\n",
    "\n",
    "---\n",
    "\n",
    "#### Instructions\n",
    "\n",
    "*This is a template for part 2 of the lab. Clearly write your answers, comments and interpretations in Markodown cells. Don't forget that you can add $\\LaTeX$ equations in these cells. Feel free to add or remove any cell.*\n",
    "\n",
    "*Please properly comment your code. Code readability will be considered for grading. To avoid long cells of codes in the notebook, you can also embed long python functions and classes in a separate module. Don’t forget to hand in your module if that is the case. In multiple exercises, you are required to come up with your own method to solve various problems. Be creative and clearly motivate and explain your methods. Creativity and clarity will be considered for grading.*"
   ]
  },
  {
   "cell_type": "markdown",
   "metadata": {},
   "source": [
    "---\n",
    "\n",
    "## 2.2 Network sampling\n",
    "\n",
    "#### Exercise 2.7: Random walk on the Facebook network"
   ]
  },
  {
   "cell_type": "code",
   "execution_count": 2,
   "metadata": {},
   "outputs": [
    {
     "name": "stdout",
     "output_type": "stream",
     "text": [
      "Estimated average age of a facebook user is 22.254 over a sample of 1000 users\n"
     ]
    }
   ],
   "source": [
    "import requests\n",
    "import numpy as np\n",
    "\n",
    "# Base url of the API\n",
    "URL_TEMPLATE = 'http://iccluster051.iccluster.epfl.ch:5050/v1.0/facebook?user={user_id}'\n",
    "# Target user id\n",
    "user_id = 'f30ff3966f16ed62f5165a229a19b319'\n",
    "# The actual url to call \n",
    "url = URL_TEMPLATE.format(user_id=user_id)\n",
    "# Execute the HTTP Get request\n",
    "response = requests.get(url)\n",
    "# Format the json response as a Python dict\n",
    "data = response.json()\n",
    "\n",
    "def walk_age(start,n):\n",
    "    u = start\n",
    "    avg_age = 0\n",
    "    \n",
    "    for i in range(n):\n",
    "        avg_age += u[\"age\"]\n",
    "        next = np.random.choice(u[\"friends\"])\n",
    "        u = requests.get('http://iccluster051.iccluster.epfl.ch:5050/v1.0/facebook?user={id}'.format(id=next)).json()\n",
    "        \n",
    "    return avg_age/n\n",
    "\n",
    "\n",
    "\n",
    "visited = 10000\n",
    "walk1 = walk_age(data, visited)\n",
    "print(\"Estimated average age of a facebook user is {age} over a sample of {visited} users\".format(age=walk1, visited=visited))"
   ]
  },
  {
   "cell_type": "markdown",
   "metadata": {},
   "source": [
    "Our estimation is pretty far from the true average (around 20 years off). We suppose that this discrepancy is due to the fact that young people are more connected than older people. Therefore every time a random friend is chosen it is more likely that this friend is young. Moreover at the beginning of the random walk there might be a bit of locality bias, since the first user (aged 19) is more likely to be connected to other young users even though this bias is quickly washed off by the depth first search nature of the algorithm."
   ]
  },
  {
   "cell_type": "markdown",
   "metadata": {},
   "source": [
    "#### Exercise 2.8"
   ]
  },
  {
   "cell_type": "markdown",
   "metadata": {},
   "source": [
    "In order to have a more accurate estimate of the average age, we change our algorithm the following way:\n",
    "\n",
    "We use the formula seen in class that downplays the weight of high degree nodes, i.e\n",
    "\n",
    "$ \\frac{\\sum \\frac{age(x)}{deg(x)}}{\\sum \\frac{1}{deg(x)}} $"
   ]
  },
  {
   "cell_type": "code",
   "execution_count": 3,
   "metadata": {},
   "outputs": [
    {
     "name": "stdout",
     "output_type": "stream",
     "text": [
      "Estimated average age of a facebook user is 41.34135280673381 over a sample of 1000 users\n"
     ]
    }
   ],
   "source": [
    "def unbiased_walk_age(start,n):\n",
    "    u = start\n",
    "    avg_age = 0\n",
    "    degrees_sum = 0\n",
    "    \n",
    "    for i in range(n):\n",
    "        degree = len(u['friends'])\n",
    "        degrees_sum += 1/degree\n",
    "        avg_age += u[\"age\"]/degree\n",
    "        next = np.random.choice(u[\"friends\"])\n",
    "        u = requests.get('http://iccluster051.iccluster.epfl.ch:5050/v1.0/facebook?user={id}'.format(id=next)).json()\n",
    "        \n",
    "    return avg_age/degrees_sum\n",
    "\n",
    "walk2 = unbiased_walk_age(data, visited)\n",
    "print(\"Estimated average age of a facebook user is {age} over a sample of {visited} users\".format(age=walk2, visited=visited))"
   ]
  }
 ],
 "metadata": {
  "kernelspec": {
   "display_name": "Python 3",
   "language": "python",
   "name": "python3"
  },
  "language_info": {
   "codemirror_mode": {
    "name": "ipython",
    "version": 3
   },
   "file_extension": ".py",
   "mimetype": "text/x-python",
   "name": "python",
   "nbconvert_exporter": "python",
   "pygments_lexer": "ipython3",
   "version": "3.6.3"
  }
 },
 "nbformat": 4,
 "nbformat_minor": 2
}
